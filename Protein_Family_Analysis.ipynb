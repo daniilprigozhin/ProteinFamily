{
  "nbformat": 4,
  "nbformat_minor": 0,
  "metadata": {
    "colab": {
      "name": "Protein Family Analysis.ipynb",
      "provenance": [],
      "collapsed_sections": [],
      "authorship_tag": "ABX9TyMtl3Fd3vDWu5a9PYMCSWZj",
      "include_colab_link": true
    },
    "kernelspec": {
      "name": "python3",
      "display_name": "Python 3"
    },
    "language_info": {
      "name": "python"
    }
  },
  "cells": [
    {
      "cell_type": "markdown",
      "metadata": {
        "id": "view-in-github",
        "colab_type": "text"
      },
      "source": [
        "<a href=\"https://colab.research.google.com/github/daniilprigozhin/ProteinFamily/blob/main/Protein_Family_Analysis.ipynb\" target=\"_parent\"><img src=\"https://colab.research.google.com/assets/colab-badge.svg\" alt=\"Open In Colab\"/></a>"
      ]
    },
    {
      "cell_type": "markdown",
      "metadata": {
        "id": "t887ZhGVVx3Z"
      },
      "source": [
        "#Protein family analysis in Google Colab\n",
        "\n",
        "This project will show you how to construct protein family phylogeny using NLR family as an example. The principal advantage of colab is ability to follow along and modify code as needed. We have implemented similar pipelines using Snakemake for execution on local machines.\n",
        "\n",
        "\n",
        "##Colab basics\n",
        "To run a section of code\n",
        "* Hit play button OR\n",
        "* Hit Cmd/Cntrl + Enter\n",
        "\n",
        "To edit a section of code/text\n",
        "* Double click the code/text window"
      ]
    },
    {
      "cell_type": "markdown",
      "metadata": {
        "id": "LY6QYAP6crwB"
      },
      "source": [
        "##Step 0: Install the software \n",
        "We'll be using\n",
        "\n",
        "HMMER with easel tools: \n",
        "http://hmmer.org\n",
        "\n",
        "Prank: \n",
        "http://wasabiapp.org/software/prank/\n",
        "\n",
        "Belvu (not in Colab): \n",
        "https://www.sanger.ac.uk/resources/software/seqtools/\n",
        "\n",
        "RAxML: \n",
        "https://cme.h-its.org/exelixis/web/software/raxml/\n"
      ]
    },
    {
      "cell_type": "code",
      "metadata": {
        "id": "jK7dksVVV1v8"
      },
      "source": [
        "##This block takes ~4 minutes\n",
        "!pip install -q condacolab\n",
        "import condacolab\n",
        "condacolab.install()\n",
        "!conda install -c bioconda hmmer \n",
        "!conda install -c bioconda easel\n",
        "#!conda install -c bioconda::snakemake\n",
        "!conda install -c bioconda raxml-ng\n",
        "#!conda update raxml-ng"
      ],
      "execution_count": null,
      "outputs": []
    },
    {
      "cell_type": "markdown",
      "metadata": {
        "id": "lnZwKxqIMqkj"
      },
      "source": [
        "\n",
        "##Step 1: Load Proteome and Domain Model \n",
        "\n",
        "###Load proteome of your species of interest \n",
        "Here we will use protein models from Van de Weyer et al, 2019 Cell.\n",
        "\n",
        "\n",
        "**Phytozome** is a good source for plant protein models. \n",
        "Example: rice\n",
        "https://phytozome.jgi.doe.gov/pz/portal.html#!info?alias=Org_Osativa\n",
        "Click to Bulk data download, login in and you will find yourself at FTP\n",
        "You can find proteome under /annotation/Osativa_323_v7.0.protein.fa.gz \n",
        "\n",
        "**Uniprot** has convenient one protein per gene proteomes available for download for \"all things bright and beautiful\".\n",
        "\n",
        "To load proteomes into colab one can either place them in **GitHub** and use git clone, or use the Files -> Upload to Session Storage (click **folder** icon on the left and then click **paper with up arrow** icon)."
      ]
    },
    {
      "cell_type": "code",
      "metadata": {
        "colab": {
          "base_uri": "https://localhost:8080/"
        },
        "id": "xvGfvF_RZ2rN",
        "outputId": "16ece765-05f4-4aba-e3f2-fd7dd909d411"
      },
      "source": [
        "%rm -rf ProteinFamily/\n",
        "!git clone https://github.com/daniilprigozhin/ProteinFamily.git\n",
        "!ls"
      ],
      "execution_count": 1,
      "outputs": [
        {
          "output_type": "stream",
          "name": "stdout",
          "text": [
            "Cloning into 'ProteinFamily'...\n",
            "remote: Enumerating objects: 129, done.\u001b[K\n",
            "remote: Counting objects:   0% (1/129)\u001b[K\rremote: Counting objects:   1% (2/129)\u001b[K\rremote: Counting objects:   2% (3/129)\u001b[K\rremote: Counting objects:   3% (4/129)\u001b[K\rremote: Counting objects:   4% (6/129)\u001b[K\rremote: Counting objects:   5% (7/129)\u001b[K\rremote: Counting objects:   6% (8/129)\u001b[K\rremote: Counting objects:   7% (10/129)\u001b[K\rremote: Counting objects:   8% (11/129)\u001b[K\rremote: Counting objects:   9% (12/129)\u001b[K\rremote: Counting objects:  10% (13/129)\u001b[K\rremote: Counting objects:  11% (15/129)\u001b[K\rremote: Counting objects:  12% (16/129)\u001b[K\rremote: Counting objects:  13% (17/129)\u001b[K\rremote: Counting objects:  14% (19/129)\u001b[K\rremote: Counting objects:  15% (20/129)\u001b[K\rremote: Counting objects:  16% (21/129)\u001b[K\rremote: Counting objects:  17% (22/129)\u001b[K\rremote: Counting objects:  18% (24/129)\u001b[K\rremote: Counting objects:  19% (25/129)\u001b[K\rremote: Counting objects:  20% (26/129)\u001b[K\rremote: Counting objects:  21% (28/129)\u001b[K\rremote: Counting objects:  22% (29/129)\u001b[K\rremote: Counting objects:  23% (30/129)\u001b[K\rremote: Counting objects:  24% (31/129)\u001b[K\rremote: Counting objects:  25% (33/129)\u001b[K\rremote: Counting objects:  26% (34/129)\u001b[K\rremote: Counting objects:  27% (35/129)\u001b[K\rremote: Counting objects:  28% (37/129)\u001b[K\rremote: Counting objects:  29% (38/129)\u001b[K\rremote: Counting objects:  30% (39/129)\u001b[K\rremote: Counting objects:  31% (40/129)\u001b[K\rremote: Counting objects:  32% (42/129)\u001b[K\rremote: Counting objects:  33% (43/129)\u001b[K\rremote: Counting objects:  34% (44/129)\u001b[K\rremote: Counting objects:  35% (46/129)\u001b[K\rremote: Counting objects:  36% (47/129)\u001b[K\rremote: Counting objects:  37% (48/129)\u001b[K\rremote: Counting objects:  38% (50/129)\u001b[K\rremote: Counting objects:  39% (51/129)\u001b[K\rremote: Counting objects:  40% (52/129)\u001b[K\rremote: Counting objects:  41% (53/129)\u001b[K\rremote: Counting objects:  42% (55/129)\u001b[K\rremote: Counting objects:  43% (56/129)\u001b[K\rremote: Counting objects:  44% (57/129)\u001b[K\rremote: Counting objects:  45% (59/129)\u001b[K\rremote: Counting objects:  46% (60/129)\u001b[K\rremote: Counting objects:  47% (61/129)\u001b[K\rremote: Counting objects:  48% (62/129)\u001b[K\rremote: Counting objects:  49% (64/129)\u001b[K\rremote: Counting objects:  50% (65/129)\u001b[K\rremote: Counting objects:  51% (66/129)\u001b[K\rremote: Counting objects:  52% (68/129)\u001b[K\rremote: Counting objects:  53% (69/129)\u001b[K\rremote: Counting objects:  54% (70/129)\u001b[K\rremote: Counting objects:  55% (71/129)\u001b[K\rremote: Counting objects:  56% (73/129)\u001b[K\rremote: Counting objects:  57% (74/129)\u001b[K\rremote: Counting objects:  58% (75/129)\u001b[K\rremote: Counting objects:  59% (77/129)\u001b[K\rremote: Counting objects:  60% (78/129)\u001b[K\rremote: Counting objects:  61% (79/129)\u001b[K\rremote: Counting objects:  62% (80/129)\u001b[K\rremote: Counting objects:  63% (82/129)\u001b[K\rremote: Counting objects:  64% (83/129)\u001b[K\rremote: Counting objects:  65% (84/129)\u001b[K\rremote: Counting objects:  66% (86/129)\u001b[K\rremote: Counting objects:  67% (87/129)\u001b[K\rremote: Counting objects:  68% (88/129)\u001b[K\rremote: Counting objects:  69% (90/129)\u001b[K\rremote: Counting objects:  70% (91/129)\u001b[K\rremote: Counting objects:  71% (92/129)\u001b[K\rremote: Counting objects:  72% (93/129)\u001b[K\rremote: Counting objects:  73% (95/129)\u001b[K\rremote: Counting objects:  74% (96/129)\u001b[K\rremote: Counting objects:  75% (97/129)\u001b[K\rremote: Counting objects:  76% (99/129)\u001b[K\rremote: Counting objects:  77% (100/129)\u001b[K\rremote: Counting objects:  78% (101/129)\u001b[K\rremote: Counting objects:  79% (102/129)\u001b[K\rremote: Counting objects:  80% (104/129)\u001b[K\rremote: Counting objects:  81% (105/129)\u001b[K\rremote: Counting objects:  82% (106/129)\u001b[K\rremote: Counting objects:  83% (108/129)\u001b[K\rremote: Counting objects:  84% (109/129)\u001b[K\rremote: Counting objects:  85% (110/129)\u001b[K\rremote: Counting objects:  86% (111/129)\u001b[K\rremote: Counting objects:  87% (113/129)\u001b[K\rremote: Counting objects:  88% (114/129)\u001b[K\rremote: Counting objects:  89% (115/129)\u001b[K\rremote: Counting objects:  90% (117/129)\u001b[K\rremote: Counting objects:  91% (118/129)\u001b[K\rremote: Counting objects:  92% (119/129)\u001b[K\rremote: Counting objects:  93% (120/129)\u001b[K\rremote: Counting objects:  94% (122/129)\u001b[K\rremote: Counting objects:  95% (123/129)\u001b[K\rremote: Counting objects:  96% (124/129)\u001b[K\rremote: Counting objects:  97% (126/129)\u001b[K\rremote: Counting objects:  98% (127/129)\u001b[K\rremote: Counting objects:  99% (128/129)\u001b[K\rremote: Counting objects: 100% (129/129)\u001b[K\rremote: Counting objects: 100% (129/129), done.\u001b[K\n",
            "remote: Compressing objects: 100% (60/60), done.\u001b[K\n",
            "remote: Total 129 (delta 76), reused 104 (delta 61), pack-reused 0\u001b[K\n",
            "Receiving objects: 100% (129/129), 4.68 MiB | 21.89 MiB/s, done.\n",
            "Resolving deltas: 100% (76/76), done.\n",
            "condacolab_install.log\tProteinFamily  sample_data\n"
          ]
        }
      ]
    },
    {
      "cell_type": "markdown",
      "metadata": {
        "id": "wVvi_S1NZb81"
      },
      "source": [
        "\n",
        "###Load a statistical model for your domain of interest\n",
        "\n",
        "Since all NLRs have a conserved NB-ARC domain, you can extract proteins containing this domain’s HMM from plant proteome and align them using HMM as a template. Go to http://pfam.xfam.org/family/NB-ARC \n",
        "and download http://pfam.xfam.org/family/PF00931/hmm\n",
        "\n",
        "To load this hmm file into colab:"
      ]
    },
    {
      "cell_type": "code",
      "metadata": {
        "id": "GmLfmn-faB1F"
      },
      "source": [
        "!wget -O NB-ARC.hmm http://pfam.xfam.org/family/PF00931/hmm "
      ],
      "execution_count": null,
      "outputs": []
    },
    {
      "cell_type": "markdown",
      "metadata": {
        "id": "hTUaXGfraCpC"
      },
      "source": [
        "\n",
        "####What is HMM?\n",
        "If you are curious - look inside the .hmm file to see how the domain is described as a statistical model of aa probabilities at each position of the domain.\n",
        "####What if you need a new HMM?\n",
        "What if your protein of interest does not have pre-built HMM describing it? You can build HMM yourself using `hmmbuild` function in HMMER.\n",
        "\n",
        "What if HMM at Pfam does not adequately describe your protein family of interest. For example, the NB-ARC model above has been built from diverse organisms including not only plants but also animals, bacteria and archaea. Therefore the resulting HMM is a best fit to describe full diversity of this protein family.\n",
        "\n",
        "Most of plant NLRs have a conserved NB-ARC domain that is larger than what Pfam HMM describes. NB-ARC of plant NLRs include additional motifs such as ARC2 and MHD. Therefore, we built plant specific HMM that you can download here: \n",
        "\n",
        "Bailey et al, Genome Biology 2018, Additional file 16:"
      ]
    },
    {
      "cell_type": "code",
      "metadata": {
        "colab": {
          "base_uri": "https://localhost:8080/"
        },
        "id": "YrDw-FceaMge",
        "outputId": "e6021b84-6a10-4ce5-bdd2-8f1fc307180e"
      },
      "source": [
        "!wget -O pbNB-ARC.hmm https://static-content.springer.com/esm/art%3A10.1186%2Fs13059-018-1392-6/MediaObjects/13059_2018_1392_MOESM16_ESM.hmm"
      ],
      "execution_count": 3,
      "outputs": [
        {
          "output_type": "stream",
          "name": "stdout",
          "text": [
            "--2021-10-01 06:44:42--  https://static-content.springer.com/esm/art%3A10.1186%2Fs13059-018-1392-6/MediaObjects/13059_2018_1392_MOESM16_ESM.hmm\n",
            "Resolving static-content.springer.com (static-content.springer.com)... 151.101.0.95, 151.101.64.95, 151.101.128.95, ...\n",
            "Connecting to static-content.springer.com (static-content.springer.com)|151.101.0.95|:443... connected.\n",
            "HTTP request sent, awaiting response... 200 OK\n",
            "Length: 158213 (155K) [application/octet-stream]\n",
            "Saving to: ‘pbNB-ARC.hmm’\n",
            "\n",
            "pbNB-ARC.hmm        100%[===================>] 154.50K  --.-KB/s    in 0.02s   \n",
            "\n",
            "2021-10-01 06:44:42 (6.66 MB/s) - ‘pbNB-ARC.hmm’ saved [158213/158213]\n",
            "\n"
          ]
        }
      ]
    },
    {
      "cell_type": "markdown",
      "metadata": {
        "id": "rpMIRUuwZjKo"
      },
      "source": [
        "You can do the alignment steps below with both Pfam HMM and our HMM and compare the results.\n",
        "\n",
        "As a bonus, you can download any of the curated functionally annotated NLRs from http://prgdb.crg.eu/wiki/Category:Reference_R-Genes,_manually_curated and include them in alignment and phylogeny. Place them in project folder as well."
      ]
    },
    {
      "cell_type": "markdown",
      "metadata": {
        "id": "Lp77H-CMkasC"
      },
      "source": [
        "\n",
        "##Step 2: Align proteins to Model\n",
        "\n",
        "We will use HMMER to align proteins to model:  \n",
        "\n",
        "    hmmsearch -E 1e-5 -A <domain.hmmalign.sto> <domain>.hmm <proteome>.faa\n",
        "                                                  "
      ]
    },
    {
      "cell_type": "code",
      "metadata": {
        "id": "8cLZTuLwhS1t"
      },
      "source": [
        "!hmmsearch -E 1e-5 -A pbNB-ARC.hmmalign.sto --domtblout pbNB-ARC.hmmalign.tbl ProteinFamily/HMM_models/pbNB-ARC.hmm ProteinFamily/Proteomes/108.aa.fa\n",
        "!cat pbNB-ARC.hmmalign.sto"
      ],
      "execution_count": null,
      "outputs": []
    },
    {
      "cell_type": "markdown",
      "metadata": {
        "id": "pmBU6unCX0-L"
      },
      "source": [
        "Hmmalign produces an alignment in Stockholm format, however for visualisation and tree building we need the alignment in fasta format. \n",
        "\n",
        "`esl-alimask --rf-is-mask` removes columns that do not match model\n",
        "\n",
        "`esl-alimanip --lmin` removes rows that are shorter than a user-defined threshold (in this case 237aa = 70% of the model length for our custom NB-ARC HMM)\n",
        "\n",
        "`esl-reformat` reformats to fasta format. The same tool can also trim the alignment to remove insertions and short sequences.\n",
        "\n",
        "`-` in easel signals that input to the command will come in from the pipe\n",
        "\n",
        "Finally `cut` and `tr` remove extra fields in the protein names"
      ]
    },
    {
      "cell_type": "code",
      "metadata": {
        "id": "S_z-szICXwYi"
      },
      "source": [
        "!esl-alimask --rf-is-mask pbNB-ARC.hmmalign.sto | esl-alimanip --lmin 100 -|esl-reformat afa - |cut -d ' ' -f 1 |tr -d ' ' > pbNB-ARC.hmmalign.afa\n",
        "!cat pbNB-ARC.hmmalign.afa"
      ],
      "execution_count": null,
      "outputs": []
    },
    {
      "cell_type": "markdown",
      "metadata": {
        "id": "OlF-EonJxxvn"
      },
      "source": [
        "##Step 3: Phylogeny with RAXML\n",
        "\n",
        "We are now ready to build a tree of the protein domains to visualise how they may be related evolutionarily. For this we are going to use the RAXML to build a bootstrapped maximum likelihood tree. This will take >2 hours but will actually work! Skip ahead to load precomputed results."
      ]
    },
    {
      "cell_type": "code",
      "metadata": {
        "colab": {
          "base_uri": "https://localhost:8080/"
        },
        "id": "OBzDhmAQ9tE9",
        "outputId": "4935b722-7318-4fff-9d47-07e9a0cee8d8"
      },
      "source": [
        "!raxml-ng --all --bs-trees 100 --model JTT --prefix pbNB-ARC --msa pbNB-ARC.hmmalign.afa "
      ],
      "execution_count": null,
      "outputs": [
        {
          "output_type": "stream",
          "name": "stdout",
          "text": [
            "\n",
            "RAxML-NG v. 1.0.3 released on 21.07.2021 by The Exelixis Lab.\n",
            "Developed by: Alexey M. Kozlov and Alexandros Stamatakis.\n",
            "Contributors: Diego Darriba, Tomas Flouri, Benoit Morel, Sarah Lutteropp, Ben Bettisworth.\n",
            "Latest version: https://github.com/amkozlov/raxml-ng\n",
            "Questions/problems/suggestions? Please visit: https://groups.google.com/forum/#!forum/raxml\n",
            "\n",
            "System: Intel(R) Xeon(R) CPU @ 2.20GHz, 1 cores, 12 GB RAM\n",
            "\n",
            "RAxML-NG was called at 01-Oct-2021 06:48:07 as follows:\n",
            "\n",
            "raxml-ng --all --bs-trees 100 --model JTT --prefix pbNB-ARC --msa pbNB-ARC.hmmalign.afa\n",
            "\n",
            "Analysis options:\n",
            "  run mode: ML tree search + bootstrapping (Felsenstein Bootstrap)\n",
            "  start tree(s): random (10) + parsimony (10)\n",
            "  bootstrap replicates: 100\n",
            "  random seed: 1633070887\n",
            "  tip-inner: OFF\n",
            "  pattern compression: ON\n",
            "  per-rate scalers: OFF\n",
            "  site repeats: ON\n",
            "  branch lengths: proportional (ML estimate, algorithm: NR-FAST)\n",
            "  SIMD kernels: AVX2\n",
            "  parallelization: coarse-grained (auto), NONE/sequential\n",
            "\n",
            "[00:00:00] Reading alignment from file: pbNB-ARC.hmmalign.afa\n",
            "[00:00:00] Loaded alignment with 174 taxa and 338 sites\n",
            "\n",
            "WARNING: Sequences 108_T335-R1/219-490 and 108_T355.1-R1/243-514 are exactly identical!\n",
            "WARNING: Duplicate sequences found: 1\n",
            "\n",
            "NOTE: Reduced alignment (with duplicates and gap-only sites/taxa removed) \n",
            "NOTE: was saved to: /content/pbNB-ARC.raxml.reduced.phy\n",
            "\n",
            "Alignment comprises 1 partitions and 338 patterns\n",
            "\n",
            "Partition 0: noname\n",
            "Model: JTT\n",
            "Alignment sites / patterns: 338 / 338\n",
            "Gaps: 24.40 %\n",
            "Invariant sites: 0.59 %\n",
            "\n",
            "\n",
            "NOTE: Binary MSA file created: pbNB-ARC.raxml.rba\n",
            "\n",
            "Parallelization scheme autoconfig: 1 worker(s) x 1 thread(s)\n",
            "\n",
            "Parallel reduction/worker buffer size: 1 KB  / 0 KB\n",
            "\n",
            "[00:00:00] Generating 10 random starting tree(s) with 174 taxa\n",
            "[00:00:00] Generating 10 parsimony starting tree(s) with 174 taxa\n",
            "[00:00:00] Data distribution: max. partitions/sites/weight per thread: 1 / 338 / 6760\n",
            "[00:00:00] Data distribution: max. searches per worker: 120\n",
            "\n",
            "Starting ML tree search with 20 distinct starting trees\n",
            "\n",
            "[00:03:00] ML tree search #1, logLikelihood: -64163.872125\n",
            "[00:06:05] ML tree search #2, logLikelihood: -64165.353792\n",
            "[00:08:31] ML tree search #3, logLikelihood: -64167.107199\n"
          ]
        }
      ]
    },
    {
      "cell_type": "code",
      "metadata": {
        "id": "t0vpVa3wRrf7"
      },
      "source": [
        "## If you need to get the precomputed tree, unquote and run this line:\n",
        "#!cp ProteinFamily/Colab_Results/pbNB-ARC.raxml.* .\n",
        "!ls"
      ],
      "execution_count": null,
      "outputs": []
    },
    {
      "cell_type": "markdown",
      "metadata": {
        "id": "uZlfd6QKuxY4"
      },
      "source": [
        "##Step 4: Saving Results\n",
        "You can connect to ***your own*** Google Drive and save any results you'd like to keep. "
      ]
    },
    {
      "cell_type": "code",
      "metadata": {
        "id": "A32ZVB8lqSWn"
      },
      "source": [
        "!ls\n",
        "from google.colab import drive\n",
        "drive.mount('/content/drive')\n",
        "!cp pbNB-ARC* /content/drive/Colab_Results/"
      ],
      "execution_count": null,
      "outputs": []
    },
    {
      "cell_type": "code",
      "metadata": {
        "colab": {
          "base_uri": "https://localhost:8080/"
        },
        "id": "3B8AetfzrcS3",
        "outputId": "1ad5927b-24f2-4c79-a634-4e4ff5e11123"
      },
      "source": [
        "!ls /content/drive/MyDrive/Colab_Results/"
      ],
      "execution_count": 16,
      "outputs": [
        {
          "output_type": "stream",
          "name": "stdout",
          "text": [
            "pbNB-ARC.hmmalign.afa\t       pbNB-ARC.raxml.lastTree.TMP\n",
            "pbNB-ARC.hmmalign.sto\t       pbNB-ARC.raxml.log\n",
            "pbNB-ARC.hmmalign.tbl\t       pbNB-ARC.raxml.mlTrees\n",
            "pbNB-ARC.noins.sto\t       pbNB-ARC.raxml.mlTrees.TMP\n",
            "pbNB-ARC.raxml.bestModel       pbNB-ARC.raxml.rba\n",
            "pbNB-ARC.raxml.bestTree        pbNB-ARC.raxml.reduced.phy\n",
            "pbNB-ARC.raxml.bootstraps      pbNB-ARC.raxml.startTree\n",
            "pbNB-ARC.raxml.bootstraps.TMP  pbNB-ARC.raxml.support\n",
            "pbNB-ARC.raxml.ckp\n"
          ]
        }
      ]
    },
    {
      "cell_type": "markdown",
      "metadata": {
        "id": "sCgMth42vOIt"
      },
      "source": [
        "##Step 5: The fun part - annotating your tree\n",
        "In this section we will annotate Pfam domains in our proteins of interest and will call a couple of R scripts to produce an annotation file for iTOL tree viewer. The motivation is to check what other domains are present in our proteins of interest (that all share the NB-ARC domain). "
      ]
    },
    {
      "cell_type": "markdown",
      "metadata": {
        "id": "qorVmql9ysrX"
      },
      "source": [
        "Step 5.1: Load Pfam (supplement with your favorite domains using `cat`). Prepare the local pfam for running."
      ]
    },
    {
      "cell_type": "code",
      "metadata": {
        "id": "XrEI8Wgtypzh"
      },
      "source": [
        "!wget ftp://ftp.ebi.ac.uk/pub/databases/Pfam/current_release/Pfam-A.hmm.gz\n",
        "!gunzip Pfam-A.hmm.gz\n",
        "!cat P  \n",
        "!hmmpress Pfam-A.hmm"
      ],
      "execution_count": null,
      "outputs": []
    },
    {
      "cell_type": "markdown",
      "metadata": {
        "id": "MPps2YBgyxna"
      },
      "source": [
        "Step 5.2: use hmm-search to Pfam find domains in "
      ]
    },
    {
      "cell_type": "code",
      "metadata": {
        "id": "pWHbnz40coZK"
      },
      "source": [
        "!esl-sfetch --index ProteinFamily/Proteomes/108.aa.fa\n",
        "!grep '>' pbNB-ARC.hmmalign.afa|cut -f 1 -d '/'|tr -d '>' >108.pbNB-ARC.list\n",
        "!cat 108.pbNB-ARC.list|esl-sfetch -f ProteinFamily/Proteomes/108.aa.fa - > 108.pbNB-ARC.fulllength.fa\n",
        "!head 108.pbNB-ARC.fulllength.fa"
      ],
      "execution_count": null,
      "outputs": []
    },
    {
      "cell_type": "code",
      "metadata": {
        "id": "2FURTgi9erCh"
      },
      "source": [
        "!hmmsearch --domtblout 108.pbNB-ARC.Pfam.tbl Pfam-A.hmm 108.pbNB-ARC.fulllength.fa"
      ],
      "execution_count": null,
      "outputs": []
    },
    {
      "cell_type": "code",
      "metadata": {
        "id": "SyG2NIkYhhPD"
      },
      "source": [
        "!head pbNB-ARC.hmmalign.tbl\n",
        "!head 108.pbNB-ARC.Pfam.tbl\n",
        "!cat pbNB-ARC.hmmalign.tbl 108.pbNB-ARC.Pfam.tbl >108.pbNB-ARC.Pfam.joined.tbl"
      ],
      "execution_count": null,
      "outputs": []
    },
    {
      "cell_type": "code",
      "metadata": {
        "id": "ZO1_rtHgkeX_"
      },
      "source": [
        "!cp pbNB-ARC* /content/drive/MyDrive/Colab_Results/\n",
        "!cp 108* /content/drive/MyDrive/Colab_Results/"
      ],
      "execution_count": 45,
      "outputs": []
    },
    {
      "cell_type": "code",
      "metadata": {
        "colab": {
          "base_uri": "https://localhost:8080/"
        },
        "id": "8TOG89WvizZD",
        "outputId": "e0876022-8ba5-4cb4-f7a6-bf346cce260a"
      },
      "source": [
        "!Rscript scripts/reduce_Pfam.R -i 108.pbNB-ARC.Pfam.joined.tbl -o 108.pbNB-ARC.Pfam.reduced.tbl -e 1e-3 -f 0.3 -a 10\n"
      ],
      "execution_count": 52,
      "outputs": [
        {
          "output_type": "stream",
          "name": "stdout",
          "text": [
            "Fatal error: cannot open file 'scripts/reduce_Pfam.R': No such file or directory\n"
          ]
        }
      ]
    },
    {
      "cell_type": "code",
      "metadata": {
        "colab": {
          "base_uri": "https://localhost:8080/"
        },
        "id": "3q2wFDuCjk8x",
        "outputId": "5e0a7e33-7bca-4331-dd5c-96d3258cf3cc"
      },
      "source": [
        "!Rscript scripts/DomainDiagrams.R -i 108.pbNB-ARC.Pfam.reduced.tbl -f .fasta -a .afa\n"
      ],
      "execution_count": 49,
      "outputs": [
        {
          "output_type": "stream",
          "name": "stdout",
          "text": [
            "Fatal error: cannot open file 'scripts/DomainDiagrams.R': No such file or directory\n"
          ]
        }
      ]
    }
  ]
}