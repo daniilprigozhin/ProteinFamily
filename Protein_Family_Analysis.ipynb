{
  "nbformat": 4,
  "nbformat_minor": 0,
  "metadata": {
    "colab": {
      "name": "Protein Family Analysis.ipynb",
      "provenance": [],
      "collapsed_sections": [],
      "authorship_tag": "ABX9TyNnaZbym75ZhTxS493EnOl/",
      "include_colab_link": true
    },
    "kernelspec": {
      "name": "python3",
      "display_name": "Python 3"
    },
    "language_info": {
      "name": "python"
    }
  },
  "cells": [
    {
      "cell_type": "markdown",
      "metadata": {
        "id": "view-in-github",
        "colab_type": "text"
      },
      "source": [
        "<a href=\"https://colab.research.google.com/github/daniilprigozhin/ProteinFamily/blob/main/Protein_Family_Analysis.ipynb\" target=\"_parent\"><img src=\"https://colab.research.google.com/assets/colab-badge.svg\" alt=\"Open In Colab\"/></a>"
      ]
    },
    {
      "cell_type": "markdown",
      "metadata": {
        "id": "t887ZhGVVx3Z"
      },
      "source": [
        "#Protein family analysis in Google Colab\n",
        "\n",
        "This project will show you how to construct protein family phylogeny using NLR family as an example. The principal advantage of colab is ability to follow along and modify code as needed. We have implemented similar pipelines using Snakemake for execution on local machines.\n",
        "\n",
        "\n",
        "##Colab basics\n",
        "To run a section of code\n",
        "* Hit play button OR\n",
        "* Hit Cmd/Cntrl + Enter\n",
        "\n",
        "To edit a section of code/text\n",
        "* Double click the code/text window"
      ]
    },
    {
      "cell_type": "markdown",
      "metadata": {
        "id": "LY6QYAP6crwB"
      },
      "source": [
        "##Step 0: Install the software \n",
        "We'll be using\n",
        "\n",
        "HMMER with easel tools: \n",
        "http://hmmer.org\n",
        "\n",
        "Prank: \n",
        "http://wasabiapp.org/software/prank/\n",
        "\n",
        "Belvu (not in Colab): \n",
        "https://www.sanger.ac.uk/resources/software/seqtools/\n",
        "\n",
        "RAxML: \n",
        "https://cme.h-its.org/exelixis/web/software/raxml/\n"
      ]
    },
    {
      "cell_type": "code",
      "metadata": {
        "colab": {
          "base_uri": "https://localhost:8080/"
        },
        "id": "jK7dksVVV1v8",
        "outputId": "7509560a-5077-408d-b513-428bb1d8aa38"
      },
      "source": [
        "!pip install -q condacolab\n",
        "import condacolab\n",
        "condacolab.install()\n",
        "!conda install -c bioconda hmmer \n",
        "!conda install -c bioconda easel\n",
        "#!conda install -c bioconda::snakemake\n",
        "!conda install -c bioconda raxml "
      ],
      "execution_count": 1,
      "outputs": [
        {
          "output_type": "stream",
          "name": "stdout",
          "text": [
            "✨🍰✨ Everything looks OK!\n",
            "Collecting package metadata (current_repodata.json): - \b\b\\ \b\b| \b\b/ \b\b- \b\b\\ \b\b| \b\b/ \b\b- \b\b\\ \b\b| \b\b/ \b\b- \b\b\\ \b\b| \b\b/ \b\bdone\n",
            "Solving environment: \\ \b\b| \b\b/ \b\b- \b\b\\ \b\b| \b\b/ \b\b- \b\b\\ \b\b| \b\bdone\n",
            "\n",
            "# All requested packages already installed.\n",
            "\n",
            "Collecting package metadata (current_repodata.json): - \b\b\\ \b\b| \b\b/ \b\b- \b\b\\ \b\b| \b\b/ \b\b- \b\b\\ \b\b| \b\b/ \b\b- \b\b\\ \b\b| \b\bdone\n",
            "Solving environment: - \b\b\\ \b\b| \b\b/ \b\b- \b\b\\ \b\b| \b\b/ \b\b- \b\bdone\n",
            "\n",
            "# All requested packages already installed.\n",
            "\n",
            "Collecting package metadata (current_repodata.json): - \b\b\\ \b\b| \b\b/ \b\b- \b\b\\ \b\b| \b\b/ \b\b- \b\b\\ \b\b| \b\b/ \b\b- \b\b\\ \b\bdone\n",
            "Solving environment: / \b\b- \b\b\\ \b\b| \b\b/ \b\b- \b\b\\ \b\b| \b\b/ \b\b- \b\bdone\n",
            "\n",
            "# All requested packages already installed.\n",
            "\n"
          ]
        }
      ]
    },
    {
      "cell_type": "markdown",
      "metadata": {
        "id": "lnZwKxqIMqkj"
      },
      "source": [
        "\n",
        "##Step 1: Load Proteome and Domain Model \n",
        "\n",
        "###Load proteome of your species of interest \n",
        "Here we will use protein models from Van de Weyer et al, 2019 Cell.\n",
        "\n",
        "\n",
        "**Phytozome** is a good source for plant protein models. \n",
        "Example: rice\n",
        "https://phytozome.jgi.doe.gov/pz/portal.html#!info?alias=Org_Osativa\n",
        "Click to Bulk data download, login in and you will find yourself at FTP\n",
        "You can find proteome under /annotation/Osativa_323_v7.0.protein.fa.gz \n",
        "\n",
        "**Uniprot** has convenient one protein per gene proteomes available for download for \"all things bright and beautiful\".\n",
        "\n",
        "To load proteomes into colab one can either place them in **GitHub** and use git clone, or use the Files -> Upload to Session Storage (click **folder** icon on the left and then click **paper with up arrow** icon)."
      ]
    },
    {
      "cell_type": "code",
      "metadata": {
        "colab": {
          "base_uri": "https://localhost:8080/"
        },
        "id": "xvGfvF_RZ2rN",
        "outputId": "c73a9070-c808-4469-defc-1f04998fdee9"
      },
      "source": [
        "%rm -rf ProteinFamily/\n",
        "!git clone https://github.com/daniilprigozhin/ProteinFamily.git"
      ],
      "execution_count": 2,
      "outputs": [
        {
          "output_type": "stream",
          "name": "stdout",
          "text": [
            "Cloning into 'ProteinFamily'...\n",
            "remote: Enumerating objects: 86, done.\u001b[K\n",
            "remote: Counting objects: 100% (86/86), done.\u001b[K\n",
            "remote: Compressing objects: 100% (22/22), done.\u001b[K\n",
            "remote: Total 86 (delta 58), reused 80 (delta 57), pack-reused 0\u001b[K\n",
            "Unpacking objects: 100% (86/86), done.\n"
          ]
        }
      ]
    },
    {
      "cell_type": "markdown",
      "metadata": {
        "id": "wVvi_S1NZb81"
      },
      "source": [
        "\n",
        "###Load a statistical model for your domain of interest\n",
        "\n",
        "Since all NLRs have a conserved NB-ARC domain, you can extract proteins containing this domain’s HMM from plant proteome and align them using HMM as a template. Go to http://pfam.xfam.org/family/NB-ARC \n",
        "and download http://pfam.xfam.org/family/PF00931/hmm\n",
        "\n",
        "To load this hmm file into colab:"
      ]
    },
    {
      "cell_type": "code",
      "metadata": {
        "colab": {
          "base_uri": "https://localhost:8080/"
        },
        "id": "GmLfmn-faB1F",
        "outputId": "e941a989-30b9-4a6d-9afa-94948d3cf549"
      },
      "source": [
        "!wget http://pfam.xfam.org/family/PF00931/hmm "
      ],
      "execution_count": 1,
      "outputs": [
        {
          "output_type": "stream",
          "name": "stdout",
          "text": [
            "--2021-09-24 06:05:30--  http://pfam.xfam.org/family/PF00931/hmm\n",
            "Resolving pfam.xfam.org (pfam.xfam.org)... 193.62.193.83\n",
            "Connecting to pfam.xfam.org (pfam.xfam.org)|193.62.193.83|:80... connected.\n",
            "HTTP request sent, awaiting response... 200 OK\n",
            "Length: 118379 (116K) [text/plain]\n",
            "Saving to: ‘hmm’\n",
            "\n",
            "hmm                 100%[===================>] 115.60K   316KB/s    in 0.4s    \n",
            "\n",
            "2021-09-24 06:05:31 (316 KB/s) - ‘hmm’ saved [118379/118379]\n",
            "\n"
          ]
        }
      ]
    },
    {
      "cell_type": "markdown",
      "metadata": {
        "id": "hTUaXGfraCpC"
      },
      "source": [
        "\n",
        "####What is HMM?\n",
        "If you are curious - look inside the .hmm file to see how the domain is described as a statistical model of aa probabilities at each position of the domain.\n",
        "####What if you need a new HMM?\n",
        "What if your protein of interest does not have pre-built HMM describing it? You can build HMM yourself using `hmmbuild` function in HMMER.\n",
        "\n",
        "What if HMM at Pfam does not adequately describe your protein family of interest. For example, the NB-ARC model above has been built from diverse organisms including not only plants but also animals, bacteria and archaea. Therefore the resulting HMM is a best fit to describe full diversity of this protein family.\n",
        "\n",
        "Most of plant NLRs have a conserved NB-ARC domain that is larger than what Pfam HMM describes. NB-ARC of plant NLRs include additional motifs such as ARC2 and MHD. Therefore, we built plant specific HMM that you can download here: \n",
        "\n",
        "Bailey et al, Genome Biology 2018, Additional file 16:"
      ]
    },
    {
      "cell_type": "code",
      "metadata": {
        "colab": {
          "base_uri": "https://localhost:8080/"
        },
        "id": "YrDw-FceaMge",
        "outputId": "bdd840b8-b92c-4cc0-e457-a21d6aa9ca9f"
      },
      "source": [
        "!wget https://static-content.springer.com/esm/art%3A10.1186%2Fs13059-018-1392-6/MediaObjects/13059_2018_1392_MOESM16_ESM.hmm"
      ],
      "execution_count": 2,
      "outputs": [
        {
          "output_type": "stream",
          "name": "stdout",
          "text": [
            "--2021-09-24 06:25:13--  https://static-content.springer.com/esm/art%3A10.1186%2Fs13059-018-1392-6/MediaObjects/13059_2018_1392_MOESM16_ESM.hmm\n",
            "Resolving static-content.springer.com (static-content.springer.com)... 151.101.0.95, 151.101.64.95, 151.101.128.95, ...\n",
            "Connecting to static-content.springer.com (static-content.springer.com)|151.101.0.95|:443... connected.\n",
            "HTTP request sent, awaiting response... 200 OK\n",
            "Length: 158213 (155K) [application/octet-stream]\n",
            "Saving to: ‘13059_2018_1392_MOESM16_ESM.hmm’\n",
            "\n",
            "13059_2018_1392_MOE 100%[===================>] 154.50K  --.-KB/s    in 0.02s   \n",
            "\n",
            "2021-09-24 06:25:13 (6.61 MB/s) - ‘13059_2018_1392_MOESM16_ESM.hmm’ saved [158213/158213]\n",
            "\n"
          ]
        }
      ]
    },
    {
      "cell_type": "markdown",
      "metadata": {
        "id": "rpMIRUuwZjKo"
      },
      "source": [
        "You can do the alignment steps below with both Pfam HMM and our HMM and compare the results.\n",
        "\n",
        "As a bonus, you can download any of the curated functionally annotated NLRs from http://prgdb.crg.eu/wiki/Category:Reference_R-Genes,_manually_curated and include them in alignment and phylogeny. Place them in project folder as well."
      ]
    },
    {
      "cell_type": "markdown",
      "metadata": {
        "id": "Lp77H-CMkasC"
      },
      "source": [
        "\n",
        "##Step 2: Align proteins to Model\n",
        "\n",
        "We will use HMMER to align proteins to model:  \n",
        "\n",
        "    hmmsearch -E 1e-5 -A <domain.hmmalign.sto> <domain>.hmm <proteome>.faa\n",
        "                                                    \n",
        "Hmmalign produces an alignment in Stockholm format, however for visualisation and tree building we need the alignment in fasta format. ‘esl-reformat’ reformats to fasta format. The same tool can also trim the alignment to remove insertions.\n",
        "\n",
        "    esl-reformat -o <domain>.hmmalign.fa afa <domain>.hmmalign.sto\n",
        "\n",
        "Belvu alignment viewer \n",
        "\n",
        "The alignment can be downloaded and viewed using the program belvu and further refined to exclude gappy columns to trim it to the aligned region\n",
        "\n",
        "Method\n",
        "1.\tbelvu <*hmmalign.fasta> 2> <*hmmalign.fasta.log>\n",
        "\n",
        "\n",
        "2.\tRight click on the dash before the first region of high conservation, in the example I have marked the position with an arrow. \n",
        "\n",
        "3.\tEdit -> Remove columns left of selection.... \n",
        "\n",
        "4.\tThen right click on the residue flanking the last region, then use Edit -> Remove columns right of selection\n",
        "\n",
        "Now we have our region of interest we can clean up the alignment \n",
        "\n",
        "5.\tEdit remove gappy columns \n",
        "a.\t90% gaps \n",
        "I have chosen 90 here as an arbitrary cut off but you can use more stringent cut-offs however as there is no easy undo in belvu if you remove too much of the variation in your sequences you may have to start refinement again. \n",
        "\n",
        "6.\tRepeat the above but this time removing gappy sequences.  \n",
        "\n",
        "Once you are happy with your curation then save. \n",
        "7.\tFile -> Save as <input>.belvu.fa\n",
        "\n",
        "\n",
        "2.3 Phylogeny with RAXML\n",
        "\n",
        "We are now ready to build a tree of the protein domains to visualise how they may be related evolutionarily. For this we are going to use the RAXML programme to build a bootstrapped maximum likelihood tree. \n",
        "\n",
        "Method\n",
        "Prerequisites:\n",
        "raxml\n",
        "\n",
        "\n",
        "1.\traxmlHPC-SSE3 -f a -x 1123 -p 2341 -# 100 -m PROTCATJTT -s <input alignment>  -n <input alignment>.raxml\n",
        "\n",
        "Example\n",
        "~/biotools/standard-RAxML-master/raxmlHPC-SSE3 -f a -x 1123 -p 2341 -#100 -m PROTCATJTT -s athaliana.0.001.NB-ARC_hmmalign.belvu.fa -n athaliana.0.001.NB-ARC_hmmalign.raxml\n",
        "\n",
        "-f \t    | rapid Bootstrap analysis and search for best-scoring ML tree in one program run\n",
        "-x \t    | Random starting seed for bootstrapping\n",
        "-# \t    |  Number of bootstraps \n",
        "-p \t    | Random starting seed for maximum likelihood tree \n",
        "-m            |  Model used to explain likelihood of amino-acid change \n",
        "-s \t    | Multiple sequence alignment \n",
        "-n \t    | Output file prefix \n",
        "-U\t    | Skip gappy columns NB only use if have relatively few gaps in alignment \n",
        "\n",
        "2.4 Itol visualisation\n",
        "\n",
        "As in level 1 guide but choose file RAxML_bipartitionsBranchLabels*.raxml\n",
        "\n",
        "3. Extended functional analysis: \n",
        "3.1 Metabolic prediction through KEGG database\n",
        "\n",
        " Identify your protein of interest on the KEGG database \n",
        "\n",
        "https://www.genome.jp/kegg/genes.html\n",
        "\n",
        "Your can enter your gene NCBI ID at the bottom of the page, alternatively, you can search with BLAST https://www.kegg.jp/blastkoala/\n",
        "\n",
        "3.2 Structure modelling\n",
        "\n",
        "3.2.2. Homology-based\n",
        "\n",
        "Phyre2 predicts structures based on the following algorithm (https://www.nature.com/articles/nprot.2015.053)\n",
        "\n",
        "1)\thomologs are gathered for the entered query sequence\n",
        "2)\thomologs are aligned, and the secondary structure is predicted de novo\n",
        "3)\tHMM describing the sequence and its homologs as well as predicted secondary structure is built from the alignment\n",
        "4)\tHMM is scanned against a database containing HMMs of proteins with known structures\n",
        "5)\tTop scoring hits are used to construct backbone model, loops are modelled separately and then side chains of amino acids are placed.\n",
        "\n",
        "http://www.sbg.bio.ic.ac.uk/phyre2/html/page.cgi?id=index\n",
        "\n",
        "Phyre2 workshop with explanation of results: http://www.sbg.bio.ic.ac.uk/phyre2/workshops/2019/Cambridge/worked_examples.html\n",
        "\n",
        "If you have high confidence models, you can download and visualize them on your computer using Chimera software: https://www.cgl.ucsf.edu/chimera/\n",
        "\n",
        "3.2.3 Ab initio structure prediction\n",
        "\n",
        "You can also try ab initio structure prediction and compare it to results from Phyre2.\n",
        "https://robetta.bakerlab.org\n",
        "\n",
        "3.3 Overlaying amino acid diversity on structural model \n",
        "\n",
        "Chimera software: https://www.cgl.ucsf.edu/chimera/\n",
        "\n",
        "Mapping sequence conservation on protein structure tutorial: https://www.cgl.ucsf.edu/chimera/data/tutorials/systems/outline.html\n",
        " \n",
        "\n",
        "\n",
        "\n",
        "\n",
        " \n",
        "Appendix - Key terminology \n",
        "\n",
        "domain (of a protein)\n",
        "a distinct functional and structural unit of a protein. Often, corresponds to a region of sequence conservation that can function, fold and evolve independently of the rest of the protein chain.\n",
        "\n",
        "family (of proteins)\n",
        "a group of proteins of the common evolutionary origin, that share similarity in function, sequence and domain structure.\n",
        "\n",
        "Profile Hidden Markov Model (HMM)\n",
        "a statistical model that turns a multiple sequence alignment into a position-specific scoring system suitable for searching databases for remotely homologous sequences. See Eddy SR Bioinformatics 1998 https://doi.org/10.1093/bioinformatics/14.9.755\n",
        "\n",
        "homologs\n",
        "sequences that share a common evolutionary origin. Beware of substituting sequence similarity with homology, the former can be expressed in % identity, the latter cannot be partial because two sequences are either homologous (share a common ancestor) or not. \n",
        "\n",
        "orthologs\n",
        "sequences that share a common evolutionary origin and that were last separated by speciation\n",
        "\n",
        "paralogs\n",
        "sequences that share a common evolutionary origin and that were last separated by gene duplication\n",
        "\n",
        "branch (of a phylogenetic tree) [includes “branch length”]\n",
        "Lineages of taxonomic units that link nodes within a phylogenetic tree.\n",
        "In a rooted tree, branches indicate direct transmission of genetic information from the taxonomic unit located at one end (parent) of the branch to the other (child). To determine the direction of transmission, consider removing the branch of interest from the tree to yield two unconnected subtrees, each of which contains only one of the nodes directly linked by the branch of interest. The subtree containing the root node contains the more ancestral of the two nodes linked by the branch of interest; hence, the direction of transfer of genetic information is from this more ancestral node to the other node linked by the branch of interest. For an unrooted tree, it is unknown which of the subtrees contains the root node, hence in unrooted trees the direction of transmission of genetic information is not specified.\n",
        "If the branch is part of a scaled phylogenetic tree, then a value is associated with the branch that indicates some measure of the difference between the two taxonomic units directly linked by the branch; this value is often referred to as the \"branch length\". If the tree is \"unscaled\", no such value is associated with the branch, that is, no branch length is specified or defined.\n",
        "A branch that links two internal nodes is known as an internal, inner, or interior branch. Branches linking an internal and an external node are referred to as external branches (also terminal branches).\n",
        "\n",
        "branch length\n",
        "See “branch”.\n",
        "\n",
        "node (of a phylogenetic tree)\n",
        "In phylogenetic trees, nodes represent taxonomic units. Nodes between which there is direct transfer of genetic information are linked to each other by branches. Nodes in a phylogenetic tree that are attached to only a single terminal branch are referred to as terminal nodes (also external nodes, leaves, or tips), and represent operational taxonomic units. Nodes attached to more than one branch are referred to as internal (also interior) nodes and represent hypothetical taxonomic units.\n",
        "\n",
        "phylogenetic tree [includes “root”]\n",
        "A description of a path of transmission of genetic information between a set of operational (and usually also hypothetical, if the tree contains any internal nodes) taxonomic units (see Operational Taxonomic Units (OTUs) and Hypothetical Taxonomic Units (HTUs)). Tree structures, as understood in graph theory, can be used to represent phylogenetic trees. In graph theory, trees are defined as undirected graphs for which exactly one path connects any two nodes (or \"vertices\"), i.e., a tree is any connected graph that does not contain any cycles. Phylogenetic trees consist of nodes (operational or hypothetical taxonomic units) that are connected via branches.\n",
        "Phylogenetic trees are described as either \"rooted\" or \"unrooted\". In a rooted tree, there is one node (the \"root node\") that represents the most recent common ancestor of all other taxa in the tree. While it is assumed that such an ancestor also exists for an unrooted tree, i.e., that all the OTUs share a most recent common ancestor, in an unrooted tree no inference is made about where on the tree this HTU might be.\n",
        "\n",
        "root\n",
        "See “phylogenetic tree”\n",
        "\n",
        "sister group\n",
        "In a rooted bifurcating tree, any internal node represents an ancestor of two subtrees. These two subtrees are sometimes referred to as \"sister groups\" of each other, i.e., subtree A is the sister group of subtree B (and accordingly subtree B is the sister group of subtree A). As this definition depends on knowing the direction of genetic transmission along the branches of the tree (i.e., which nodes/branches are ancestral and which are descendant), it is only possible to identify sister groups in the context of a rooted phylogenetic tree; in unrooted trees the direction of transmission of genetic information is not specified, so it is not possible to identify which of the subtrees linked to an internal node are ancestral and which are descendant. To overcome this problem, the concept of adjacent groups was developed for referring to subtrees linked to the same internal node in unrooted trees.\n",
        "\n",
        "subtree\n",
        "A tree obtained by detaching a branch from a larger phylogenetic tree.\n",
        "\n",
        "taxonomic unit\n",
        "Phylogenetic trees can be used to describe patterns of genetic transmission between different kinds of entities, for example: different species, different individuals within a population of the same species, different genes within a gene family. The term \"taxonomic unit\" is used to refer to the entities between which patterns and paths of genetic transfer are described. Thus, for some trees, the taxonomic units will be individuals within a population, in other trees they will be different species.\n",
        "\n",
        "Phylogeny definitions taken from entries written by Aidan Budd and Alexandros Stamantakis in the 2nd edition of the “Dictionary of Bioinformatics and Computational Biology” (eds John M. Hancock and Marketa J. Zvelebil)"
      ]
    },
    {
      "cell_type": "code",
      "metadata": {
        "colab": {
          "base_uri": "https://localhost:8080/"
        },
        "id": "8cLZTuLwhS1t",
        "outputId": "f3aad1da-9e28-4ac3-c810-25e81bb0eae3"
      },
      "source": [
        "%ls ProteinFamily/Proteomes/\n",
        "!hmmsearch -o domainsofinterest.hmmalign.sth ProteinFamily/HMM_models/pbNB-ARC.hmm ProteinFamily/Proteomes/108.aa.fa\n",
        "!head domainsofinterest.hmmalign.sth"
      ],
      "execution_count": 4,
      "outputs": [
        {
          "output_type": "stream",
          "name": "stdout",
          "text": [
            "10015.aa.fa  6981.aa.fa  7328.aa.fa  9533.aa.fa  9583.aa.fa  9837.aa.fa\n",
            "108.aa.fa    7058.aa.fa  7373.aa.fa  9536.aa.fa  9597.aa.fa  9869.aa.fa\n",
            "1925.aa.fa   7067.aa.fa  7396.aa.fa  9537.aa.fa  9600.aa.fa  9871.aa.fa\n",
            "5784.aa.fa   7111.aa.fa  7413.aa.fa  9542.aa.fa  9610.aa.fa  9879.aa.fa\n",
            "5993.aa.fa   7167.aa.fa  7415.aa.fa  9543.aa.fa  9654.aa.fa  9887.aa.fa\n",
            "6899.aa.fa   7186.aa.fa  7416.aa.fa  9545.aa.fa  9669.aa.fa  9944.aa.fa\n",
            "6906.aa.fa   7213.aa.fa  7417.aa.fa  9549.aa.fa  9721.aa.fa  9947.aa.fa\n",
            "6909.aa.fa   7273.aa.fa  9100.aa.fa  9550.aa.fa  9762.aa.fa  Athaliana.NLR.afa\n",
            "6924.aa.fa   7288.aa.fa  9134.aa.fa  9554.aa.fa  9764.aa.fa\n",
            "6939.aa.fa   7308.aa.fa  9332.aa.fa  9557.aa.fa  9784.aa.fa\n",
            "6974.aa.fa   7322.aa.fa  9518.aa.fa  9580.aa.fa  9792.aa.fa\n",
            "# hmmsearch :: search profile(s) against a sequence database\n",
            "# HMMER 3.3.2 (Nov 2020); http://hmmer.org/\n",
            "# Copyright (C) 2020 Howard Hughes Medical Institute.\n",
            "# Freely distributed under the BSD open source license.\n",
            "# - - - - - - - - - - - - - - - - - - - - - - - - - - - - - - - - - - - -\n",
            "# query HMM file:                  ProteinFamily/HMM_models/pbNB-ARC.hmm\n",
            "# target sequence database:        ProteinFamily/Proteomes/108.aa.fa\n",
            "# output directed to file:         domainsofinterest.hmmalign.sth\n",
            "# - - - - - - - - - - - - - - - - - - - - - - - - - - - - - - - - - - - -\n",
            "\n"
          ]
        }
      ]
    }
  ]
}