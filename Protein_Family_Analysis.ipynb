{
  "nbformat": 4,
  "nbformat_minor": 0,
  "metadata": {
    "colab": {
      "name": "Protein Family Analysis.ipynb",
      "provenance": [],
      "collapsed_sections": [],
      "authorship_tag": "ABX9TyM3u9A2aHYF+cDI46YM+gGR",
      "include_colab_link": true
    },
    "kernelspec": {
      "name": "python3",
      "display_name": "Python 3"
    },
    "language_info": {
      "name": "python"
    }
  },
  "cells": [
    {
      "cell_type": "markdown",
      "metadata": {
        "id": "view-in-github",
        "colab_type": "text"
      },
      "source": [
        "<a href=\"https://colab.research.google.com/github/daniilprigozhin/ProteinFamily/blob/main/Protein_Family_Analysis.ipynb\" target=\"_parent\"><img src=\"https://colab.research.google.com/assets/colab-badge.svg\" alt=\"Open In Colab\"/></a>"
      ]
    },
    {
      "cell_type": "markdown",
      "metadata": {
        "id": "t887ZhGVVx3Z"
      },
      "source": [
        "#Protein family analysis in Google Colab\n",
        "\n",
        "This project will show you how to construct protein family phylogeny using NLR family as an example. The principal advantage of colab is ability to follow along and modify code as needed. We have implemented similar pipelines using Snakemake for execution on local machines.\n",
        "\n",
        "\n",
        "##Colab basics\n",
        "To run a section of code\n",
        "* Hit play button OR\n",
        "* Hit Cmd/Cntrl + Enter\n",
        "\n",
        "To edit a section of code/text\n",
        "* Double click the code/text window"
      ]
    },
    {
      "cell_type": "markdown",
      "metadata": {
        "id": "LY6QYAP6crwB"
      },
      "source": [
        "##Step 0: Install the software \n",
        "We'll be using\n",
        "\n",
        "HMMER with easel tools: \n",
        "http://hmmer.org\n",
        "\n",
        "Prank: \n",
        "http://wasabiapp.org/software/prank/\n",
        "\n",
        "Belvu (not in Colab): \n",
        "https://www.sanger.ac.uk/resources/software/seqtools/\n",
        "\n",
        "RAxML: \n",
        "https://cme.h-its.org/exelixis/web/software/raxml/\n"
      ]
    },
    {
      "cell_type": "code",
      "metadata": {
        "colab": {
          "base_uri": "https://localhost:8080/"
        },
        "id": "jK7dksVVV1v8",
        "outputId": "51062820-bca5-464f-fd89-de097d1d8e43"
      },
      "source": [
        "!pip install -q condacolab\n",
        "import condacolab\n",
        "condacolab.install()\n",
        "!conda install -c bioconda hmmer \n",
        "!conda install -c bioconda easel\n",
        "#!conda install -c bioconda::snakemake\n",
        "!conda install -c bioconda raxml \n",
        "!conda update raxml"
      ],
      "execution_count": 30,
      "outputs": [
        {
          "output_type": "stream",
          "name": "stdout",
          "text": [
            "✨🍰✨ Everything looks OK!\n",
            "Collecting package metadata (current_repodata.json): - \b\b\\ \b\b| \b\b/ \b\b- \b\b\\ \b\b| \b\b/ \b\b- \b\b\\ \b\b| \b\b/ \b\b- \b\b\\ \b\b| \b\bdone\n",
            "Solving environment: - \b\b\\ \b\b| \b\b/ \b\b- \b\b\\ \b\b| \b\b/ \b\b- \b\b\\ \b\bdone\n",
            "\n",
            "# All requested packages already installed.\n",
            "\n",
            "Collecting package metadata (current_repodata.json): - \b\b\\ \b\b| \b\b/ \b\b- \b\b\\ \b\b| \b\b/ \b\b- \b\b\\ \b\b| \b\b/ \b\b- \b\bdone\n",
            "Solving environment: | \b\b/ \b\b- \b\b\\ \b\b| \b\b/ \b\b- \b\b\\ \b\b| \b\bdone\n",
            "\n",
            "# All requested packages already installed.\n",
            "\n",
            "Collecting package metadata (current_repodata.json): - \b\b\\ \b\b| \b\b/ \b\b- \b\b\\ \b\b| \b\b/ \b\b- \b\b\\ \b\b| \b\b/ \b\b- \b\b\\ \b\b| \b\b/ \b\b- \b\bdone\n",
            "Solving environment: | \b\b/ \b\b- \b\b\\ \b\b| \b\b/ \b\b- \b\b\\ \b\b| \b\b/ \b\bdone\n",
            "\n",
            "# All requested packages already installed.\n",
            "\n",
            "Collecting package metadata (current_repodata.json): - \b\b\\ \b\b| \b\b/ \b\b- \b\b\\ \b\b| \b\b/ \b\b- \b\b\\ \b\b| \b\b/ \b\b- \b\bdone\n",
            "Solving environment: | \b\b/ \b\b- \b\b\\ \b\bfailed with repodata from current_repodata.json, will retry with next repodata source.\n",
            "Collecting package metadata (repodata.json): / \b\b- \b\b\\ \b\b| \b\b/ \b\b- \b\b\\ \b\b| \b\b/ \b\b- \b\b\\ \b\b| \b\b/ \b\b- \b\b\\ \b\b| \b\b/ \b\b- \b\b\\ \b\b| \b\b/ \b\b- \b\b\\ \b\b| \b\b/ \b\b- \b\b\\ \b\b| \b\b/ \b\b- \b\b\\ \b\b| \b\b/ \b\b- \b\b\\ \b\b| \b\b/ \b\b- \b\b\\ \b\b| \b\b/ \b\b- \b\b\\ \b\b| \b\b/ \b\b- \b\b\\ \b\b| \b\b/ \b\b- \b\b\\ \b\b| \b\b/ \b\b- \b\b\\ \b\b| \b\b/ \b\b- \b\b\\ \b\b| \b\b/ \b\b- \b\b\\ \b\b| \b\b/ \b\b- \b\b\\ \b\b| \b\b/ \b\b- \b\b\\ \b\b| \b\b/ \b\b- \b\b\\ \b\b| \b\b/ \b\b- \b\b\\ \b\b| \b\b/ \b\b- \b\b\\ \b\b| \b\b/ \b\b- \b\b\\ \b\b| \b\b/ \b\b- \b\b\\ \b\b| \b\b/ \b\b- \b\b\\ \b\b| \b\b/ \b\b- \b\b\\ \b\b| \b\b/ \b\b- \b\b\\ \b\b| \b\b/ \b\b- \b\b\\ \b\b| \b\b/ \b\b- \b\b\\ \b\b| \b\b/ \b\b- \b\b\\ \b\b| \b\b/ \b\b- \b\b\\ \b\b| \b\b/ \b\b- \b\b\\ \b\b| \b\b/ \b\b- \b\b\\ \b\b| \b\b/ \b\b- \b\b\\ \b\b| \b\b/ \b\b- \b\b\\ \b\b| \b\b/ \b\b- \b\b\\ \b\b| \b\b/ \b\b- \b\b\\ \b\b| \b\b/ \b\b- \b\b\\ \b\b| \b\b/ \b\b- \b\b\\ \b\b| \b\b/ \b\b- \b\b\\ \b\b| \b\b/ \b\b- \b\b\\ \b\b| \b\b/ \b\b- \b\b\\ \b\b| \b\b/ \b\b- \b\b\\ \b\b| \b\b/ \b\b- \b\b\\ \b\b| \b\b/ \b\b- \b\b\\ \b\b| \b\b/ \b\b- \b\b\\ \b\b| \b\b/ \b\b- \b\b\\ \b\b| \b\b/ \b\b- \b\b\\ \b\b| \b\b/ \b\b- \b\b\\ \b\b| \b\b/ \b\b- \b\b\\ \b\b| \b\b/ \b\b- \b\b\\ \b\b| \b\b/ \b\b- \b\b\\ \b\b| \b\b/ \b\b- \b\b\\ \b\b| \b\b/ \b\b- \b\b\\ \b\b| \b\b/ \b\b- \b\b\\ \b\b| \b\b/ \b\b- \b\b\\ \b\b| \b\b/ \b\b- \b\b\\ \b\b| \b\b/ \b\b- \b\b\\ \b\b| \b\b/ \b\b- \b\b\\ \b\b| \b\b/ \b\b- \b\b\\ \b\b| \b\b/ \b\b- \b\b\\ \b\b| \b\b/ \b\b- \b\b\\ \b\b| \b\b/ \b\b- \b\b\\ \b\b| \b\b/ \b\b- \b\b\\ \b\b| \b\b/ \b\b- \b\b\\ \b\b| \b\b/ \b\b- \b\b\\ \b\bdone\n",
            "Solving environment: / \b\b- \b\b\\ \b\b| \b\b/ \b\b- \b\b\\ \b\b| \b\b/ \b\b- \b\b\\ \b\b| \b\b/ \b\b- \b\b\\ \b\b| \b\b/ \b\b- \b\b\\ \b\b| \b\b/ \b\b- \b\b\\ \b\b| \b\b/ \b\b- \b\b\\ \b\b| \b\b/ \b\b- \b\b\\ \b\b| \b\b/ \b\b- \b\b\\ \b\b| \b\b/ \b\b- \b\b\\ \b\b| \b\b/ \b\b- \b\b\\ \b\b| \b\b/ \b\b- \b\b\\ \b\b| \b\b/ \b\b- \b\b\\ \b\b| \b\b/ \b\b- \b\b\\ \b\b| \b\b/ \b\b- \b\b\\ \b\b| \b\b/ \b\b- \b\b\\ \b\b| \b\b/ \b\b- \b\b\\ \b\b| \b\b/ \b\b- \b\b\\ \b\b| \b\b/ \b\b- \b\b\\ \b\b| \b\b/ \b\b- \b\b\\ \b\b| \b\b/ \b\b- \b\b\\ \b\b| \b\b/ \b\b- \b\b\\ \b\b| \b\b/ \b\b- \b\b\\ \b\b| \b\b/ \b\b- \b\b\\ \b\b| \b\b/ \b\b- \b\b\\ \b\b| \b\b/ \b\b- \b\b\\ \b\b| \b\b/ \b\b- \b\b\\ \b\b| \b\b/ \b\b- \b\b\\ \b\b| \b\b/ \b\b- \b\b\\ \b\b| \b\b/ \b\b- \b\b\\ \b\b| \b\b/ \b\b- \b\b\\ \b\b| \b\b/ \b\b- \b\b\\ \b\b| \b\b/ \b\b- \b\b\\ \b\b| \b\b/ \b\b- \b\b\\ \b\b| \b\b/ \b\b- \b\b\\ \b\b| \b\b/ \b\b- \b\b\\ \b\b| \b\b/ \b\b- \b\b\\ \b\b| \b\b/ \b\b- \b\b\\ \b\b| \b\b/ \b\b- \b\b\\ \b\b| \b\b/ \b\b- \b\b\\ \b\b| \b\b/ \b\b- \b\b\\ \b\b| \b\bdone\n",
            "\n",
            "## Package Plan ##\n",
            "\n",
            "  environment location: /usr/local\n",
            "\n",
            "  added / updated specs:\n",
            "    - raxml\n",
            "\n",
            "\n",
            "The following packages will be downloaded:\n",
            "\n",
            "    package                    |            build\n",
            "    ---------------------------|-----------------\n",
            "    c-ares-1.17.2              |       h7f98852_0         109 KB  conda-forge\n",
            "    cffi-1.14.6                |   py37hc58025e_0         225 KB  conda-forge\n",
            "    charset-normalizer-2.0.0   |     pyhd8ed1ab_0          32 KB  conda-forge\n",
            "    colorama-0.4.4             |     pyh9f0ad1d_0          18 KB  conda-forge\n",
            "    conda-package-handling-1.7.3|   py37h5e8e339_0         921 KB  conda-forge\n",
            "    cryptography-3.4.7         |   py37h5d9358c_0         1.1 MB  conda-forge\n",
            "    idna-3.1                   |     pyhd3deb0d_0          52 KB  conda-forge\n",
            "    krb5-1.19.2                |       hcc1bbae_0         1.4 MB  conda-forge\n",
            "    ld_impl_linux-64-2.36.1    |       hea4e1c9_2         667 KB  conda-forge\n",
            "    libarchive-3.5.2           |       hccf745f_1         1.6 MB  conda-forge\n",
            "    libcurl-7.79.1             |       h2574ce0_0         335 KB  conda-forge\n",
            "    libgcc-ng-11.2.0           |       h1d223b6_8         892 KB  conda-forge\n",
            "    libgomp-11.2.0             |       h1d223b6_8         428 KB  conda-forge\n",
            "    libsolv-0.7.19             |       h780b84a_5         445 KB  conda-forge\n",
            "    libssh2-1.10.0             |       ha56f1ee_1         233 KB  conda-forge\n",
            "    libstdcxx-ng-11.2.0        |       he4da1e4_8         4.2 MB  conda-forge\n",
            "    libxml2-2.9.12             |       h72842e0_0         772 KB  conda-forge\n",
            "    lz4-c-1.9.3                |       h9c3ff4c_1         179 KB  conda-forge\n",
            "    openssl-1.1.1l             |       h7f98852_0         2.1 MB  conda-forge\n",
            "    python_abi-3.7             |          2_cp37m           4 KB  conda-forge\n",
            "    readline-8.1               |       h46c0cb4_0         295 KB  conda-forge\n",
            "    reproc-14.2.3              |       h7f98852_0          28 KB  conda-forge\n",
            "    reproc-cpp-14.2.3          |       h9c3ff4c_0          20 KB  conda-forge\n",
            "    requests-2.26.0            |     pyhd8ed1ab_0          52 KB  conda-forge\n",
            "    setuptools-58.0.4          |   py37h89c1867_1         964 KB  conda-forge\n",
            "    six-1.16.0                 |     pyh6c4a22f_0          14 KB  conda-forge\n",
            "    sqlite-3.36.0              |       h9cd32fc_1         1.4 MB  conda-forge\n",
            "    tk-8.6.11                  |       h27826a3_1         3.3 MB  conda-forge\n",
            "    tqdm-4.62.3                |     pyhd8ed1ab_0          80 KB  conda-forge\n",
            "    urllib3-1.26.7             |     pyhd8ed1ab_0         100 KB  conda-forge\n",
            "    wheel-0.37.0               |     pyhd8ed1ab_1          31 KB  conda-forge\n",
            "    zstd-1.5.0                 |       ha95c52a_0         490 KB  conda-forge\n",
            "    ------------------------------------------------------------\n",
            "                                           Total:        22.3 MB\n",
            "\n",
            "The following NEW packages will be INSTALLED:\n",
            "\n",
            "  charset-normalizer conda-forge/noarch::charset-normalizer-2.0.0-pyhd8ed1ab_0\n",
            "  colorama           conda-forge/noarch::colorama-0.4.4-pyh9f0ad1d_0\n",
            "\n",
            "The following packages will be UPDATED:\n",
            "\n",
            "  c-ares                                  1.17.1-h7f98852_1 --> 1.17.2-h7f98852_0\n",
            "  cffi                                1.14.5-py37hc58025e_0 --> 1.14.6-py37hc58025e_0\n",
            "  conda-package-han~                   1.7.2-py37hb5d75c8_0 --> 1.7.3-py37h5e8e339_0\n",
            "  cryptography                         3.4.5-py37h5d9358c_1 --> 3.4.7-py37h5d9358c_0\n",
            "  idna                                    2.10-pyh9f0ad1d_0 --> 3.1-pyhd3deb0d_0\n",
            "  krb5                                    1.17.2-h926e7f8_0 --> 1.19.2-hcc1bbae_0\n",
            "  ld_impl_linux-64                        2.35.1-hea4e1c9_2 --> 2.36.1-hea4e1c9_2\n",
            "  libarchive                               3.5.1-h3f442fb_1 --> 3.5.2-hccf745f_1\n",
            "  libcurl                                 7.75.0-hc4aaa36_0 --> 7.79.1-h2574ce0_0\n",
            "  libgcc-ng                               9.3.0-h2828fa1_18 --> 11.2.0-h1d223b6_8\n",
            "  libgomp                                 9.3.0-h2828fa1_18 --> 11.2.0-h1d223b6_8\n",
            "  libsolv                                 0.7.17-h780b84a_0 --> 0.7.19-h780b84a_5\n",
            "  libssh2                                  1.9.0-ha56f1ee_6 --> 1.10.0-ha56f1ee_1\n",
            "  libstdcxx-ng                            9.3.0-h6de172a_18 --> 11.2.0-he4da1e4_8\n",
            "  libxml2                                 2.9.10-h72842e0_3 --> 2.9.12-h72842e0_0\n",
            "  lz4-c                                    1.9.3-h9c3ff4c_0 --> 1.9.3-h9c3ff4c_1\n",
            "  openssl                                 1.1.1j-h7f98852_0 --> 1.1.1l-h7f98852_0\n",
            "  python_abi                                    3.7-1_cp37m --> 3.7-2_cp37m\n",
            "  readline                                   8.0-he28a2e2_2 --> 8.1-h46c0cb4_0\n",
            "  reproc                                  14.2.1-h36c2ea0_0 --> 14.2.3-h7f98852_0\n",
            "  reproc-cpp                              14.2.1-h58526e2_0 --> 14.2.3-h9c3ff4c_0\n",
            "  requests                              2.25.1-pyhd3deb0d_0 --> 2.26.0-pyhd8ed1ab_0\n",
            "  setuptools                          49.6.0-py37h89c1867_3 --> 58.0.4-py37h89c1867_1\n",
            "  six                                   1.15.0-pyh9f0ad1d_0 --> 1.16.0-pyh6c4a22f_0\n",
            "  sqlite                                  3.34.0-h74cdb3f_0 --> 3.36.0-h9cd32fc_1\n",
            "  tk                                      8.6.10-h21135ba_1 --> 8.6.11-h27826a3_1\n",
            "  tqdm                                  4.59.0-pyhd8ed1ab_0 --> 4.62.3-pyhd8ed1ab_0\n",
            "  urllib3                               1.26.3-pyhd8ed1ab_0 --> 1.26.7-pyhd8ed1ab_0\n",
            "  wheel                                 0.36.2-pyhd3deb0d_0 --> 0.37.0-pyhd8ed1ab_1\n",
            "  zstd                                     1.4.9-ha95c52a_0 --> 1.5.0-ha95c52a_0\n",
            "\n",
            "\n",
            "\n",
            "Downloading and Extracting Packages\n",
            "libssh2-1.10.0       | 233 KB    | : 100% 1.0/1 [00:00<00:00,  3.77it/s]\n",
            "tk-8.6.11            | 3.3 MB    | : 100% 1.0/1 [00:00<00:00,  1.14it/s]             \n",
            "six-1.16.0           | 14 KB     | : 100% 1.0/1 [00:00<00:00, 17.07it/s]\n",
            "wheel-0.37.0         | 31 KB     | : 100% 1.0/1 [00:00<00:00, 18.18it/s]\n",
            "libstdcxx-ng-11.2.0  | 4.2 MB    | : 100% 1.0/1 [00:00<00:00,  1.08it/s]               \n",
            "urllib3-1.26.7       | 100 KB    | : 100% 1.0/1 [00:00<00:00, 13.21it/s]\n",
            "tqdm-4.62.3          | 80 KB     | : 100% 1.0/1 [00:00<00:00, 14.45it/s]\n",
            "libarchive-3.5.2     | 1.6 MB    | : 100% 1.0/1 [00:00<00:00,  2.21it/s]\n",
            "libgomp-11.2.0       | 428 KB    | : 100% 1.0/1 [00:00<00:00,  6.67it/s]\n",
            "cryptography-3.4.7   | 1.1 MB    | : 100% 1.0/1 [00:00<00:00,  2.69it/s]\n",
            "reproc-cpp-14.2.3    | 20 KB     | : 100% 1.0/1 [00:00<00:00, 18.59it/s]\n",
            "readline-8.1         | 295 KB    | : 100% 1.0/1 [00:00<00:00,  8.26it/s]\n",
            "cffi-1.14.6          | 225 KB    | : 100% 1.0/1 [00:00<00:00,  9.50it/s]\n",
            "ld_impl_linux-64-2.3 | 667 KB    | : 100% 1.0/1 [00:00<00:00,  3.89it/s]\n",
            "sqlite-3.36.0        | 1.4 MB    | : 100% 1.0/1 [00:00<00:00,  2.89it/s]\n",
            "requests-2.26.0      | 52 KB     | : 100% 1.0/1 [00:00<00:00, 15.45it/s]\n",
            "reproc-14.2.3        | 28 KB     | : 100% 1.0/1 [00:00<00:00, 11.65it/s]\n",
            "colorama-0.4.4       | 18 KB     | : 100% 1.0/1 [00:00<00:00, 10.50it/s]\n",
            "python_abi-3.7       | 4 KB      | : 100% 1.0/1 [00:00<00:00, 18.97it/s]\n",
            "libgcc-ng-11.2.0     | 892 KB    | : 100% 1.0/1 [00:00<00:00,  4.16it/s]\n",
            "libcurl-7.79.1       | 335 KB    | : 100% 1.0/1 [00:00<00:00,  7.58it/s]\n",
            "zstd-1.5.0           | 490 KB    | : 100% 1.0/1 [00:00<00:00,  6.43it/s]\n",
            "c-ares-1.17.2        | 109 KB    | : 100% 1.0/1 [00:00<00:00, 10.95it/s]\n",
            "libsolv-0.7.19       | 445 KB    | : 100% 1.0/1 [00:00<00:00,  6.96it/s]\n",
            "idna-3.1             | 52 KB     | : 100% 1.0/1 [00:00<00:00, 19.04it/s]\n",
            "openssl-1.1.1l       | 2.1 MB    | : 100% 1.0/1 [00:00<00:00,  1.57it/s]\n",
            "libxml2-2.9.12       | 772 KB    | : 100% 1.0/1 [00:00<00:00,  3.86it/s]\n",
            "lz4-c-1.9.3          | 179 KB    | : 100% 1.0/1 [00:00<00:00,  7.05it/s]\n",
            "charset-normalizer-2 | 32 KB     | : 100% 1.0/1 [00:00<00:00, 15.09it/s]\n",
            "conda-package-handli | 921 KB    | : 100% 1.0/1 [00:00<00:00,  3.79it/s]\n",
            "setuptools-58.0.4    | 964 KB    | : 100% 1.0/1 [00:00<00:00,  2.47it/s]\n",
            "krb5-1.19.2          | 1.4 MB    | : 100% 1.0/1 [00:00<00:00,  2.25it/s]\n",
            "Preparing transaction: - \b\b\\ \b\bdone\n",
            "Verifying transaction: / \b\b- \b\b\\ \b\b| \b\b/ \b\bdone\n",
            "Executing transaction: \\ \b\b| \b\b/ \b\b- \b\b\\ \b\b| \b\b/ \b\b- \b\b\\ \b\b| \b\b/ \b\bdone\n"
          ]
        }
      ]
    },
    {
      "cell_type": "markdown",
      "metadata": {
        "id": "lnZwKxqIMqkj"
      },
      "source": [
        "\n",
        "##Step 1: Load Proteome and Domain Model \n",
        "\n",
        "###Load proteome of your species of interest \n",
        "Here we will use protein models from Van de Weyer et al, 2019 Cell.\n",
        "\n",
        "\n",
        "**Phytozome** is a good source for plant protein models. \n",
        "Example: rice\n",
        "https://phytozome.jgi.doe.gov/pz/portal.html#!info?alias=Org_Osativa\n",
        "Click to Bulk data download, login in and you will find yourself at FTP\n",
        "You can find proteome under /annotation/Osativa_323_v7.0.protein.fa.gz \n",
        "\n",
        "**Uniprot** has convenient one protein per gene proteomes available for download for \"all things bright and beautiful\".\n",
        "\n",
        "To load proteomes into colab one can either place them in **GitHub** and use git clone, or use the Files -> Upload to Session Storage (click **folder** icon on the left and then click **paper with up arrow** icon)."
      ]
    },
    {
      "cell_type": "code",
      "metadata": {
        "colab": {
          "base_uri": "https://localhost:8080/"
        },
        "id": "xvGfvF_RZ2rN",
        "outputId": "ea115b95-8443-4fa7-889d-ad36781c934b"
      },
      "source": [
        "%rm -rf ProteinFamily/\n",
        "!git clone https://github.com/daniilprigozhin/ProteinFamily.git"
      ],
      "execution_count": 3,
      "outputs": [
        {
          "output_type": "stream",
          "name": "stdout",
          "text": [
            "Cloning into 'ProteinFamily'...\n",
            "remote: Enumerating objects: 98, done.\u001b[K\n",
            "remote: Counting objects: 100% (98/98), done.\u001b[K\n",
            "remote: Compressing objects: 100% (34/34), done.\u001b[K\n",
            "remote: Total 98 (delta 66), reused 79 (delta 57), pack-reused 0\u001b[K\n",
            "Unpacking objects: 100% (98/98), done.\n"
          ]
        }
      ]
    },
    {
      "cell_type": "markdown",
      "metadata": {
        "id": "wVvi_S1NZb81"
      },
      "source": [
        "\n",
        "###Load a statistical model for your domain of interest\n",
        "\n",
        "Since all NLRs have a conserved NB-ARC domain, you can extract proteins containing this domain’s HMM from plant proteome and align them using HMM as a template. Go to http://pfam.xfam.org/family/NB-ARC \n",
        "and download http://pfam.xfam.org/family/PF00931/hmm\n",
        "\n",
        "To load this hmm file into colab:"
      ]
    },
    {
      "cell_type": "code",
      "metadata": {
        "colab": {
          "base_uri": "https://localhost:8080/"
        },
        "id": "GmLfmn-faB1F",
        "outputId": "dcb2e6fd-0c22-47f3-f76b-1e3fe2969b41"
      },
      "source": [
        "!wget http://pfam.xfam.org/family/PF00931/hmm "
      ],
      "execution_count": 4,
      "outputs": [
        {
          "output_type": "stream",
          "name": "stdout",
          "text": [
            "--2021-09-25 00:53:48--  http://pfam.xfam.org/family/PF00931/hmm\n",
            "Resolving pfam.xfam.org (pfam.xfam.org)... 193.62.193.83\n",
            "Connecting to pfam.xfam.org (pfam.xfam.org)|193.62.193.83|:80... connected.\n",
            "HTTP request sent, awaiting response... 200 OK\n",
            "Length: 118379 (116K) [text/plain]\n",
            "Saving to: ‘hmm.1’\n",
            "\n",
            "hmm.1               100%[===================>] 115.60K   252KB/s    in 0.5s    \n",
            "\n",
            "2021-09-25 00:53:49 (252 KB/s) - ‘hmm.1’ saved [118379/118379]\n",
            "\n"
          ]
        }
      ]
    },
    {
      "cell_type": "markdown",
      "metadata": {
        "id": "hTUaXGfraCpC"
      },
      "source": [
        "\n",
        "####What is HMM?\n",
        "If you are curious - look inside the .hmm file to see how the domain is described as a statistical model of aa probabilities at each position of the domain.\n",
        "####What if you need a new HMM?\n",
        "What if your protein of interest does not have pre-built HMM describing it? You can build HMM yourself using `hmmbuild` function in HMMER.\n",
        "\n",
        "What if HMM at Pfam does not adequately describe your protein family of interest. For example, the NB-ARC model above has been built from diverse organisms including not only plants but also animals, bacteria and archaea. Therefore the resulting HMM is a best fit to describe full diversity of this protein family.\n",
        "\n",
        "Most of plant NLRs have a conserved NB-ARC domain that is larger than what Pfam HMM describes. NB-ARC of plant NLRs include additional motifs such as ARC2 and MHD. Therefore, we built plant specific HMM that you can download here: \n",
        "\n",
        "Bailey et al, Genome Biology 2018, Additional file 16:"
      ]
    },
    {
      "cell_type": "code",
      "metadata": {
        "colab": {
          "base_uri": "https://localhost:8080/"
        },
        "id": "YrDw-FceaMge",
        "outputId": "319d2a5a-6e4a-4628-fc4f-a06f1d6565cf"
      },
      "source": [
        "!wget https://static-content.springer.com/esm/art%3A10.1186%2Fs13059-018-1392-6/MediaObjects/13059_2018_1392_MOESM16_ESM.hmm"
      ],
      "execution_count": 5,
      "outputs": [
        {
          "output_type": "stream",
          "name": "stdout",
          "text": [
            "--2021-09-25 00:53:49--  https://static-content.springer.com/esm/art%3A10.1186%2Fs13059-018-1392-6/MediaObjects/13059_2018_1392_MOESM16_ESM.hmm\n",
            "Resolving static-content.springer.com (static-content.springer.com)... 151.101.0.95, 151.101.64.95, 151.101.128.95, ...\n",
            "Connecting to static-content.springer.com (static-content.springer.com)|151.101.0.95|:443... connected.\n",
            "HTTP request sent, awaiting response... 200 OK\n",
            "Length: 158213 (155K) [application/octet-stream]\n",
            "Saving to: ‘13059_2018_1392_MOESM16_ESM.hmm’\n",
            "\n",
            "13059_2018_1392_MOE 100%[===================>] 154.50K  --.-KB/s    in 0.02s   \n",
            "\n",
            "2021-09-25 00:53:49 (6.48 MB/s) - ‘13059_2018_1392_MOESM16_ESM.hmm’ saved [158213/158213]\n",
            "\n"
          ]
        }
      ]
    },
    {
      "cell_type": "markdown",
      "metadata": {
        "id": "rpMIRUuwZjKo"
      },
      "source": [
        "You can do the alignment steps below with both Pfam HMM and our HMM and compare the results.\n",
        "\n",
        "As a bonus, you can download any of the curated functionally annotated NLRs from http://prgdb.crg.eu/wiki/Category:Reference_R-Genes,_manually_curated and include them in alignment and phylogeny. Place them in project folder as well."
      ]
    },
    {
      "cell_type": "markdown",
      "metadata": {
        "id": "Lp77H-CMkasC"
      },
      "source": [
        "\n",
        "##Step 2: Align proteins to Model\n",
        "\n",
        "We will use HMMER to align proteins to model:  \n",
        "\n",
        "    hmmsearch -E 1e-5 -A <domain.hmmalign.sto> <domain>.hmm <proteome>.faa\n",
        "                                                  "
      ]
    },
    {
      "cell_type": "code",
      "metadata": {
        "id": "8cLZTuLwhS1t"
      },
      "source": [
        "!hmmsearch -A pbNB-ARC.hmmalign.sto --domtblout pbNB-ARC.hmmalign.tbl ProteinFamily/HMM_models/pbNB-ARC.hmm ProteinFamily/Proteomes/108.aa.fa\n",
        "!cat pbNB-ARC.hmmalign.sto"
      ],
      "execution_count": null,
      "outputs": []
    },
    {
      "cell_type": "markdown",
      "metadata": {
        "id": "pmBU6unCX0-L"
      },
      "source": [
        "Hmmalign produces an alignment in Stockholm format, however for visualisation and tree building we need the alignment in fasta format. \n",
        "\n",
        "`esl-alimask --rf-is-mask` removes columns that do not match model\n",
        "\n",
        "`esl-alimanip --lmin` removes rows that are shorter than a user-defined threshold (in this case 70% of the model length for our custom NB-ARC HMM)\n",
        "\n",
        "`esl-reformat` reformats to fasta format. The same tool can also trim the alignment to remove insertions and short sequences.\n",
        "\n",
        "`-` in easel signals that input to the command will come in from the pipe\n",
        "\n",
        "Finally `cut` and `tr` remove extra fields in the protein names"
      ]
    },
    {
      "cell_type": "code",
      "metadata": {
        "id": "S_z-szICXwYi"
      },
      "source": [
        "!esl-alimask --rf-is-mask pbNB-ARC.hmmalign.sto | esl-alimanip --lmin 237 -|esl-reformat afa - |cut -d ' ' -f 1 |tr -d ' ' > pbNB-ARC.hmmalign.afa\n",
        "!cat pbNB-ARC.hmmalign.afa"
      ],
      "execution_count": null,
      "outputs": []
    },
    {
      "cell_type": "markdown",
      "metadata": {
        "id": "OlF-EonJxxvn"
      },
      "source": [
        "##Step 3: Phylogeny with RAXML\n",
        "\n",
        "We are now ready to build a tree of the protein domains to visualise how they may be related evolutionarily. For this we are going to use the RAXML to build a bootstrapped maximum likelihood tree. "
      ]
    },
    {
      "cell_type": "code",
      "metadata": {
        "colab": {
          "base_uri": "https://localhost:8080/"
        },
        "id": "GiNVenVn7Ppn",
        "outputId": "280bbc1b-b7e2-4e66-a673-475626b1cbcd"
      },
      "source": [
        "!conda install -c bioconda raxml-ng "
      ],
      "execution_count": 34,
      "outputs": [
        {
          "output_type": "stream",
          "name": "stdout",
          "text": [
            "Collecting package metadata (current_repodata.json): - \b\b\\ \b\b| \b\b/ \b\b- \b\b\\ \b\b| \b\b/ \b\b- \b\b\\ \b\b| \b\b/ \b\b- \b\b\\ \b\b| \b\b/ \b\b- \b\b\\ \b\bdone\n",
            "Solving environment: / \b\b- \b\b\\ \b\b| \b\b/ \b\b- \b\b\\ \b\b| \b\b/ \b\b- \b\b\\ \b\b| \b\bdone\n",
            "\n",
            "## Package Plan ##\n",
            "\n",
            "  environment location: /usr/local\n",
            "\n",
            "  added / updated specs:\n",
            "    - raxml-ng\n",
            "\n",
            "\n",
            "The following packages will be downloaded:\n",
            "\n",
            "    package                    |            build\n",
            "    ---------------------------|-----------------\n",
            "    cudatoolkit-11.1.1         |       h6406543_8        1.20 GB  conda-forge\n",
            "    gmp-6.2.1                  |       h58526e2_0         806 KB  conda-forge\n",
            "    libgfortran-ng-11.2.0      |       h69a702a_8          19 KB  conda-forge\n",
            "    libgfortran5-11.2.0        |       h5c6108e_8         1.7 MB  conda-forge\n",
            "    mpi-1.0                    |          openmpi           4 KB  conda-forge\n",
            "    openmpi-4.1.1              |       hbfc84c5_0         4.3 MB  conda-forge\n",
            "    raxml-ng-1.0.3             |       h32fcf60_0         1.6 MB  bioconda\n",
            "    ------------------------------------------------------------\n",
            "                                           Total:        1.21 GB\n",
            "\n",
            "The following NEW packages will be INSTALLED:\n",
            "\n",
            "  cudatoolkit        conda-forge/linux-64::cudatoolkit-11.1.1-h6406543_8\n",
            "  gmp                conda-forge/linux-64::gmp-6.2.1-h58526e2_0\n",
            "  libgfortran-ng     conda-forge/linux-64::libgfortran-ng-11.2.0-h69a702a_8\n",
            "  libgfortran5       conda-forge/linux-64::libgfortran5-11.2.0-h5c6108e_8\n",
            "  mpi                conda-forge/linux-64::mpi-1.0-openmpi\n",
            "  openmpi            conda-forge/linux-64::openmpi-4.1.1-hbfc84c5_0\n",
            "  raxml-ng           bioconda/linux-64::raxml-ng-1.0.3-h32fcf60_0\n",
            "\n",
            "\n",
            "\n",
            "Downloading and Extracting Packages\n",
            "openmpi-4.1.1        | 4.3 MB    | : 100% 1.0/1 [00:01<00:00,  1.18s/it]\n",
            "libgfortran5-11.2.0  | 1.7 MB    | : 100% 1.0/1 [00:00<00:00,  2.62it/s]\n",
            "raxml-ng-1.0.3       | 1.6 MB    | : 100% 1.0/1 [00:00<00:00,  1.69it/s]\n",
            "cudatoolkit-11.1.1   | 1.20 GB   | : 100% 1.0/1 [03:05<00:00, 185.23s/it]              \n",
            "libgfortran-ng-11.2. | 19 KB     | : 100% 1.0/1 [00:00<00:00, 12.21it/s]\n",
            "mpi-1.0              | 4 KB      | : 100% 1.0/1 [00:00<00:00, 21.90it/s]\n",
            "gmp-6.2.1            | 806 KB    | : 100% 1.0/1 [00:00<00:00,  4.70it/s]\n",
            "Preparing transaction: - \b\bdone\n",
            "Verifying transaction: | \b\b/ \b\b- \b\bdone\n",
            "Executing transaction: | \b\b/ \b\b- \b\b\\ \b\b| By downloading and using the CUDA Toolkit conda packages, you accept the terms and conditions of the CUDA End User License Agreement (EULA): https://docs.nvidia.com/cuda/eula/index.html\n",
            "\n",
            "\b\b/ \b\b- \b\b\\  \n",
            "For Linux 64, Open MPI is built with CUDA awareness but this support is disabled by default.\n",
            "To enable it, please set the environment variable OMPI_MCA_opal_cuda_support=true before\n",
            "launching your MPI processes. Equivalently, you can set the MCA parameter in the command line:\n",
            "mpiexec --mca opal_cuda_support 1 ...\n",
            " \n",
            "In addition, the UCX support is also built but disabled by default.\n",
            "To enable it, first install UCX (conda install -c conda-forge ucx). Then, set the environment\n",
            "variables OMPI_MCA_pml=\"ucx\" OMPI_MCA_osc=\"ucx\" before launching your MPI processes.\n",
            "Equivalently, you can set the MCA parameters in the command line:\n",
            "mpiexec --mca pml ucx --mca osc ucx ...\n",
            "Note that you might also need to set UCX_MEMTYPE_CACHE=n for CUDA awareness via UCX.\n",
            "Please consult UCX's documentation for detail.\n",
            " \n",
            "\n",
            "\b\b| \b\bdone\n"
          ]
        }
      ]
    },
    {
      "cell_type": "code",
      "metadata": {
        "colab": {
          "base_uri": "https://localhost:8080/"
        },
        "id": "OBzDhmAQ9tE9",
        "outputId": "ca3644fa-6ad4-48f6-9d44-0fe191ed0b6c"
      },
      "source": [
        "!raxml-ng --all --bs-trees 100 --model JTT --prefix pbNB-ARC --msa pbNB-ARC.hmmalign.afa "
      ],
      "execution_count": null,
      "outputs": [
        {
          "output_type": "stream",
          "name": "stdout",
          "text": [
            "\n",
            "RAxML-NG v. 1.0.3 released on 21.07.2021 by The Exelixis Lab.\n",
            "Developed by: Alexey M. Kozlov and Alexandros Stamatakis.\n",
            "Contributors: Diego Darriba, Tomas Flouri, Benoit Morel, Sarah Lutteropp, Ben Bettisworth.\n",
            "Latest version: https://github.com/amkozlov/raxml-ng\n",
            "Questions/problems/suggestions? Please visit: https://groups.google.com/forum/#!forum/raxml\n",
            "\n",
            "System: Intel(R) Xeon(R) CPU @ 2.30GHz, 1 cores, 12 GB RAM\n",
            "\n",
            "RAxML-NG was called at 25-Sep-2021 04:06:40 as follows:\n",
            "\n",
            "raxml-ng --all --bs-trees 100 --model JTT --prefix pbNB-ARC --msa pbNB-ARC.hmmalign.afa\n",
            "\n",
            "Analysis options:\n",
            "  run mode: ML tree search + bootstrapping (Felsenstein Bootstrap)\n",
            "  start tree(s): random (10) + parsimony (10)\n",
            "  bootstrap replicates: 100\n",
            "  random seed: 1632542800\n",
            "  tip-inner: OFF\n",
            "  pattern compression: ON\n",
            "  per-rate scalers: OFF\n",
            "  site repeats: ON\n",
            "  branch lengths: proportional (ML estimate, algorithm: NR-FAST)\n",
            "  SIMD kernels: AVX2\n",
            "  parallelization: coarse-grained (auto), NONE/sequential\n",
            "\n",
            "[00:00:00] Reading alignment from file: pbNB-ARC.hmmalign.afa\n",
            "[00:00:00] Loaded alignment with 130 taxa and 338 sites\n",
            "\n",
            "WARNING: Sequences 108_T335-R1/219-490 and 108_T355.1-R1/243-514 are exactly identical!\n",
            "WARNING: Duplicate sequences found: 1\n",
            "\n",
            "NOTE: Reduced alignment (with duplicates and gap-only sites/taxa removed) \n",
            "NOTE: was saved to: /content/pbNB-ARC.raxml.reduced.phy\n",
            "\n",
            "Alignment comprises 1 partitions and 337 patterns\n",
            "\n",
            "Partition 0: noname\n",
            "Model: JTT\n",
            "Alignment sites / patterns: 338 / 337\n",
            "Gaps: 17.44 %\n",
            "Invariant sites: 1.48 %\n",
            "\n",
            "\n",
            "NOTE: Binary MSA file created: pbNB-ARC.raxml.rba\n",
            "\n",
            "Parallelization scheme autoconfig: 1 worker(s) x 1 thread(s)\n",
            "\n",
            "Parallel reduction/worker buffer size: 1 KB  / 0 KB\n",
            "\n",
            "[00:00:00] Generating 10 random starting tree(s) with 130 taxa\n",
            "[00:00:00] Generating 10 parsimony starting tree(s) with 130 taxa\n",
            "[00:00:00] Data distribution: max. partitions/sites/weight per thread: 1 / 337 / 6740\n",
            "[00:00:00] Data distribution: max. searches per worker: 120\n",
            "\n",
            "Starting ML tree search with 20 distinct starting trees\n",
            "\n",
            "[00:01:43] ML tree search #1, logLikelihood: -52852.556773\n",
            "[00:03:27] ML tree search #2, logLikelihood: -52857.618293\n",
            "[00:05:19] ML tree search #3, logLikelihood: -52851.118403\n",
            "[00:06:59] ML tree search #4, logLikelihood: -52851.118403\n",
            "[00:08:33] ML tree search #5, logLikelihood: -52851.118403\n",
            "[00:10:13] ML tree search #6, logLikelihood: -52857.373117\n",
            "[00:11:45] ML tree search #7, logLikelihood: -52851.214009\n",
            "[00:13:06] ML tree search #8, logLikelihood: -52857.618293\n",
            "[00:14:31] ML tree search #9, logLikelihood: -52851.214009\n",
            "[00:16:25] ML tree search #10, logLikelihood: -52851.118403\n",
            "[00:17:50] ML tree search #11, logLikelihood: -52852.556773\n",
            "[00:19:14] ML tree search #12, logLikelihood: -52857.683955\n",
            "[00:20:33] ML tree search #13, logLikelihood: -52852.473517\n",
            "[00:21:51] ML tree search #14, logLikelihood: -52851.118403\n",
            "[00:23:03] ML tree search #15, logLikelihood: -52852.473517\n"
          ]
        }
      ]
    }
  ]
}