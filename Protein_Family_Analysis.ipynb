{
  "nbformat": 4,
  "nbformat_minor": 0,
  "metadata": {
    "colab": {
      "name": "Protein Family Analysis.ipynb",
      "private_outputs": true,
      "provenance": [],
      "collapsed_sections": [],
      "toc_visible": true,
      "authorship_tag": "ABX9TyNY0DKYOWMOsiOX86Q3dxD5",
      "include_colab_link": true
    },
    "kernelspec": {
      "name": "python3",
      "display_name": "Python 3"
    },
    "language_info": {
      "name": "python"
    }
  },
  "cells": [
    {
      "cell_type": "markdown",
      "metadata": {
        "id": "view-in-github",
        "colab_type": "text"
      },
      "source": [
        "<a href=\"https://colab.research.google.com/github/daniilprigozhin/ProteinFamily/blob/main/Protein_Family_Analysis.ipynb\" target=\"_parent\"><img src=\"https://colab.research.google.com/assets/colab-badge.svg\" alt=\"Open In Colab\"/></a>"
      ]
    },
    {
      "cell_type": "markdown",
      "metadata": {
        "id": "t887ZhGVVx3Z"
      },
      "source": [
        "#Protein Family Analysis in Google Colab\n",
        "\n",
        "This project will show you how to construct protein family phylogeny using plant NLR immune receptor family as an example. The principal advantage of colab is ability to follow along and modify code as needed. We have implemented similar pipelines using Snakemake for execution on local machines. Try bringing in you own HMM and sequence database and see how far you can go. (As usual sequence names in .fasta files are a pain) \n",
        "\n",
        "\n",
        "##Colab basics\n",
        "To run a section of code\n",
        "* Hit play button OR\n",
        "* Hit Cmd/Cntrl + Enter\n",
        "\n",
        "To edit a section of code/text\n",
        "* Double click the code/text window"
      ]
    },
    {
      "cell_type": "markdown",
      "metadata": {
        "id": "LY6QYAP6crwB"
      },
      "source": [
        "##Step 0: Install the software \n",
        "We'll be using\n",
        "\n",
        "HMMER with easel tools: \n",
        "http://hmmer.org\n",
        "\n",
        "\n",
        "RAxML: \n",
        "https://github.com/amkozlov/raxml-ng\n",
        "\n",
        "iToL:\n",
        "https://itol.embl.de\n"
      ]
    },
    {
      "cell_type": "code",
      "metadata": {
        "id": "jK7dksVVV1v8"
      },
      "source": [
        "##This block takes 4-5 minutes\n",
        "!pip install -q condacolab\n",
        "import condacolab\n",
        "condacolab.install()\n",
        "!conda install -c bioconda hmmer \n",
        "!conda install -c bioconda easel\n",
        "!conda install -c bioconda raxml-ng"
      ],
      "execution_count": null,
      "outputs": []
    },
    {
      "cell_type": "markdown",
      "metadata": {
        "id": "lnZwKxqIMqkj"
      },
      "source": [
        "\n",
        "##Step 1: Load Proteome and Domain Model \n",
        "\n",
        "###Load proteome of your species of interest \n",
        "Here we will use protein models from [Van de Weyer et al, 2019 Cell](https://doi.org/10.1016/j.cell.2019.07.038).\n",
        "The ProteinFamily/Proteome subdirectory of the Github repo below contains all proteomes from the **Arabidopsis pan-NLRome**, but we will only process proteins from one ecotype to speed things up.\n",
        "\n",
        "**Phytozome** is a good source for plant protein models. \n",
        "Example: rice\n",
        "https://phytozome.jgi.doe.gov/pz/portal.html#!info?alias=Org_Osativa\n",
        "Click to Bulk data download, login in and you will find yourself at FTP\n",
        "You can find proteome under /annotation/Osativa_323_v7.0.protein.fa.gz \n",
        "\n",
        "**Uniprot** has convenient one protein per gene proteomes available for download for \"all things bright and beautiful\".\n",
        "\n",
        "To load proteomes into colab one can either place them in **GitHub** and use git clone, or use the Files -> Upload to Session Storage (click **folder** icon on the left and then click **paper with up arrow** icon). Also, see below for mounting your Google Drive into Colab."
      ]
    },
    {
      "cell_type": "code",
      "metadata": {
        "id": "xvGfvF_RZ2rN"
      },
      "source": [
        "%rm -rf ProteinFamily/\n",
        "!git clone https://github.com/daniilprigozhin/ProteinFamily.git\n",
        "!ls"
      ],
      "execution_count": null,
      "outputs": []
    },
    {
      "cell_type": "markdown",
      "metadata": {
        "id": "wVvi_S1NZb81"
      },
      "source": [
        "\n",
        "###Load a statistical model for your domain of interest\n",
        "\n",
        "Since all NLRs have a conserved NB-ARC domain, you can extract proteins containing this domain’s HMM from plant proteome and align them using HMM as a template. Go to http://pfam.xfam.org/family/NB-ARC \n",
        "and download http://pfam.xfam.org/family/PF00931/hmm\n",
        "\n",
        "To load this hmm file into colab:"
      ]
    },
    {
      "cell_type": "code",
      "metadata": {
        "id": "GmLfmn-faB1F"
      },
      "source": [
        "!wget -O NB-ARC.hmm http://pfam.xfam.org/family/PF00931/hmm "
      ],
      "execution_count": null,
      "outputs": []
    },
    {
      "cell_type": "markdown",
      "metadata": {
        "id": "hTUaXGfraCpC"
      },
      "source": [
        "\n",
        "####What is HMM?\n",
        "If you are curious - look inside the .hmm file to see how the domain is described as a statistical model of aa probabilities at each position of the domain.\n",
        "####What if you need a new HMM?\n",
        "What if your protein of interest does not have pre-built HMM describing it? You can build HMM yourself using `hmmbuild` function in HMMER.\n",
        "\n",
        "What if HMM at Pfam does not adequately describe your protein family of interest. For example, the NB-ARC model above has been built from diverse organisms including not only plants but also animals, bacteria and archaea. Therefore the resulting HMM is a best fit to describe full diversity of this protein family.\n",
        "\n",
        "Most of plant NLRs have a conserved NB-ARC domain that is larger than what Pfam HMM describes. NB-ARC of plant NLRs include additional motifs such as ARC2 and MHD. Therefore, we built plant specific HMM that you can download here: \n",
        "\n",
        "Bailey et al, Genome Biology 2018, Additional file 16:"
      ]
    },
    {
      "cell_type": "code",
      "metadata": {
        "id": "YrDw-FceaMge"
      },
      "source": [
        "!wget -O pbNB-ARC.hmm https://static-content.springer.com/esm/art%3A10.1186%2Fs13059-018-1392-6/MediaObjects/13059_2018_1392_MOESM16_ESM.hmm"
      ],
      "execution_count": null,
      "outputs": []
    },
    {
      "cell_type": "markdown",
      "metadata": {
        "id": "rpMIRUuwZjKo"
      },
      "source": [
        "You can do the alignment steps below with both Pfam HMM and our HMM and compare the results.\n",
        "\n",
        "As a bonus, you can download any of the curated functionally annotated NLRs from http://prgdb.crg.eu/wiki/Category:Reference_R-Genes,_manually_curated and include them in alignment and phylogeny. Place them in project folder as well."
      ]
    },
    {
      "cell_type": "markdown",
      "metadata": {
        "id": "Lp77H-CMkasC"
      },
      "source": [
        "\n",
        "##Step 2: Align proteins to Model\n",
        "\n",
        "We will use HMMER to align proteins to model:  \n",
        "\n",
        "    hmmsearch -E 1e-5 -A <domain.hmmalign.sto> <domain>.hmm <proteome>.faa\n",
        "                                                  "
      ]
    },
    {
      "cell_type": "code",
      "metadata": {
        "id": "8cLZTuLwhS1t"
      },
      "source": [
        "!hmmsearch -E 1e-5 -A pbNB-ARC.hmmalign.sto --domtblout pbNB-ARC.hmmalign.tbl ProteinFamily/HMM_models/pbNB-ARC.hmm ProteinFamily/Proteomes/108.aa.fa\n",
        "!cat pbNB-ARC.hmmalign.sto"
      ],
      "execution_count": null,
      "outputs": []
    },
    {
      "cell_type": "markdown",
      "metadata": {
        "id": "pmBU6unCX0-L"
      },
      "source": [
        "Hmmalign produces an alignment in Stockholm format, however for visualisation and tree building we need the alignment in fasta format. \n",
        "\n",
        "`esl-alimask --rf-is-mask` removes columns that do not match model (insertions)\n",
        "\n",
        "`esl-alimanip --lmin` removes rows that are shorter than a user-defined threshold (in this case 100aa = 30% of the model length for our custom NB-ARC HMM)\n",
        "\n",
        "`esl-reformat` reformats to fasta format.\n",
        "\n",
        "`-` in easel signals that input to the command will come in from the pipe\n",
        "\n",
        "Finally `cut` and `tr` remove extra fields in the protein names"
      ]
    },
    {
      "cell_type": "code",
      "metadata": {
        "id": "S_z-szICXwYi"
      },
      "source": [
        "!esl-alimask --rf-is-mask pbNB-ARC.hmmalign.sto | esl-alimanip --lmin 100 -|esl-reformat afa - |cut -d ' ' -f 1 |tr -d ' ' > pbNB-ARC.hmmalign.afa\n",
        "!cat pbNB-ARC.hmmalign.afa"
      ],
      "execution_count": null,
      "outputs": []
    },
    {
      "cell_type": "markdown",
      "metadata": {
        "id": "OlF-EonJxxvn"
      },
      "source": [
        "##Step 3: Phylogeny with RAXML\n",
        "\n",
        "We are now ready to build a tree of the protein domains to visualise how they may be related evolutionarily. For this we are going to use the RAXML to build a bootstrapped maximum likelihood tree. This will take >2 hours but will actually work! Skip ahead to the next code block to load precomputed results."
      ]
    },
    {
      "cell_type": "code",
      "metadata": {
        "id": "OBzDhmAQ9tE9"
      },
      "source": [
        "##Several hours depending on --lmin cutoff (i.e. number of sequences) in the previous step\n",
        "!raxml-ng --all --bs-trees 100 --model JTT --prefix pbNB-ARC --msa pbNB-ARC.hmmalign.afa "
      ],
      "execution_count": null,
      "outputs": []
    },
    {
      "cell_type": "code",
      "metadata": {
        "id": "t0vpVa3wRrf7"
      },
      "source": [
        "## If you need to get the precomputed tree, unquote and run this line:\n",
        "!cp ProteinFamily/Colab_Results/pbNB-ARC.raxml.* .\n",
        "!ls"
      ],
      "execution_count": null,
      "outputs": []
    },
    {
      "cell_type": "markdown",
      "metadata": {
        "id": "uZlfd6QKuxY4"
      },
      "source": [
        "##Step 4: Saving Results\n",
        "You can connect to ***your own*** Google Drive and save any results you'd like to keep. "
      ]
    },
    {
      "cell_type": "code",
      "metadata": {
        "id": "A32ZVB8lqSWn"
      },
      "source": [
        "!ls\n",
        "from google.colab import drive\n",
        "drive.mount('/content/drive')\n",
        "!cp pbNB-ARC* /content/drive/MyDrive/Colab_Results/"
      ],
      "execution_count": null,
      "outputs": []
    },
    {
      "cell_type": "code",
      "metadata": {
        "id": "3B8AetfzrcS3"
      },
      "source": [
        "!ls /content/drive/MyDrive/Colab_Results/"
      ],
      "execution_count": null,
      "outputs": []
    },
    {
      "cell_type": "markdown",
      "metadata": {
        "id": "sCgMth42vOIt"
      },
      "source": [
        "##Step 5: The fun part - annotating your tree\n",
        "In this section we will annotate Pfam domains in our proteins of interest and will call a couple of R scripts to produce an annotation file for iTOL tree viewer. The motivation is to check what other domains are present in our proteins of interest (that all share the NB-ARC domain). \n",
        "There are many potential annotation tracks that iTOL supports, allowing you to bring in just about any kind of information on your system, such as gene expression, epigenetic states, gene structure, etc. "
      ]
    },
    {
      "cell_type": "markdown",
      "metadata": {
        "id": "qorVmql9ysrX"
      },
      "source": [
        "##Step 5.1: Load Pfam \n",
        "We will start by loading the current version of Pfam. Then, we'll supplement it with two custom HMMs, one for NB-ARC, and one for an N-teminal coiled-coil domain that is typical of NLRs, but is not yet in Pfam.Prepare the local pfam for running."
      ]
    },
    {
      "cell_type": "code",
      "metadata": {
        "id": "XrEI8Wgtypzh"
      },
      "source": [
        "##less than 2 minutes\n",
        "!wget ftp://ftp.ebi.ac.uk/pub/databases/Pfam/current_release/Pfam-A.hmm.gz\n",
        "!gunzip Pfam-A.hmm.gz\n",
        "!cat Pfam-A.hmm ProteinFamily/HMM_models/* > Pfam-A.plus.hmm\n",
        "!hmmpress Pfam-A.plus.hmm"
      ],
      "execution_count": null,
      "outputs": []
    },
    {
      "cell_type": "markdown",
      "metadata": {
        "id": "MPps2YBgyxna"
      },
      "source": [
        "##Step 5.2: find all other Pfam domains in your proteins of interest\n",
        "Before we begin, we need to select the proteins of interest out of the available proteome. `grep '>'` gets the names from our .afa alignment file. `cut` removes the NB-ARC coordinates, `tr` removes '>', and `sort` and `uniq` take care of duplicates.\n",
        "There is a perl script in here that's been perfect since the dawn of time. I tried to do this simple task with easel tools and failed.\n",
        "The two `wc` commands check that the number of expected sequences matches the number retrieved."
      ]
    },
    {
      "cell_type": "code",
      "metadata": {
        "id": "pWHbnz40coZK"
      },
      "source": [
        "\n",
        "!grep '>' pbNB-ARC.hmmalign.afa|cut -f 1 -d '/'| tr -d '>' |sort |uniq >108.pbNB-ARC.list\n",
        "!wc 108.pbNB-ARC.list\n",
        "!ProteinFamily/scripts/K-get_fasta_from_ids.pl -f ProteinFamily/Proteomes/108.aa.fa -i 108.pbNB-ARC.list > 108.pbNB-ARC.fulllength.fa\n",
        "!grep '>' 108.pbNB-ARC.fulllength.fa|wc "
      ],
      "execution_count": null,
      "outputs": []
    },
    {
      "cell_type": "markdown",
      "metadata": {
        "id": "4lkP3l6dw5C1"
      },
      "source": [
        "### Time to do the big domain search.\n",
        "This runs very quickly for what it is. Domains in the database are alphabetical, which should give us a sense of progress."
      ]
    },
    {
      "cell_type": "code",
      "metadata": {
        "id": "2FURTgi9erCh"
      },
      "source": [
        "##2-3 minutes\n",
        "!hmmsearch --domtblout 108.pbNB-ARC.Pfam.tbl Pfam-A.plus.hmm 108.pbNB-ARC.fulllength.fa"
      ],
      "execution_count": null,
      "outputs": []
    },
    {
      "cell_type": "markdown",
      "metadata": {
        "id": "AVIUoPGOyALS"
      },
      "source": [
        "###How many hits did we get?\n",
        "Some of these overlap. We'll select the highest scoring hits in a later step."
      ]
    },
    {
      "cell_type": "code",
      "metadata": {
        "id": "SyG2NIkYhhPD"
      },
      "source": [
        "!cat 108.pbNB-ARC.Pfam.tbl|grep -v '#'|wc"
      ],
      "execution_count": null,
      "outputs": []
    },
    {
      "cell_type": "markdown",
      "metadata": {
        "id": "4h0aA6Xvybkc"
      },
      "source": [
        "### Saving results to Drive"
      ]
    },
    {
      "cell_type": "code",
      "metadata": {
        "id": "ZO1_rtHgkeX_"
      },
      "source": [
        "!cp pbNB-ARC* /content/drive/MyDrive/Colab_Results/\n",
        "!cp 108* /content/drive/MyDrive/Colab_Results/"
      ],
      "execution_count": null,
      "outputs": []
    },
    {
      "cell_type": "markdown",
      "metadata": {
        "id": "NS1n1myLytKt"
      },
      "source": [
        "## Step 5.3 Remove weak hits that overlap better ones\n",
        "The first `tr` command collapses spaces in hmmer output. Usually, in R read_delim() does this, but not in Colab for some reason.\n",
        "There are many ways to run R code in colab including executing blocks in R, here we call R code as a standalone script.\n",
        "\n",
        "On first execution R will be installing a bunch of libraries, which will take some time. This is a drawback of Colab, as on a local machine you'd only run this once. The working part of the script runs very quickly.\n",
        "\n",
        "The options:\n",
        "`-e` allows disregarding poorly scoring HMM hits by e-value,\n",
        "`-f` allows disregarding HMM hits by model coverage,\n",
        "`-a` sets a maximum allowed overlap as HMM's can be greedy and bite into neighboring territories."
      ]
    },
    {
      "cell_type": "code",
      "metadata": {
        "id": "TIs8C6YMIUmh"
      },
      "source": [
        "!tr -s ' ' <108.pbNB-ARC.Pfam.tbl > 108.pbNB-ARC.Pfam.ws.tbl\n",
        "!Rscript ProteinFamily/scripts/reduce_pfam.R -i 108.pbNB-ARC.Pfam.ws.tbl -o 108.pbNB-ARC.Pfam.reduced.tbl -e 1e-3 -f 0.3 -a 10"
      ],
      "execution_count": null,
      "outputs": []
    },
    {
      "cell_type": "markdown",
      "metadata": {
        "id": "qMzRo9E_z1jz"
      },
      "source": [
        "##Step 5.4 Produce the annotation track for iToL\n",
        "R has libraries for drawing and annotating trees that are very good and getting better. iToL's main advantage is in the ease of sharing."
      ]
    },
    {
      "cell_type": "code",
      "metadata": {
        "id": "T7BpAnHpIVoQ"
      },
      "source": [
        "!Rscript ProteinFamily/scripts/DomainDiagrams_sm.R -o 108.iTOL.domains.txt -i 108.pbNB-ARC.Pfam.reduced.tbl -f 108.pbNB-ARC.fulllength.fa -a pbNB-ARC.hmmalign.afa"
      ],
      "execution_count": null,
      "outputs": []
    },
    {
      "cell_type": "markdown",
      "metadata": {
        "id": "BJK4TG573iTX"
      },
      "source": [
        "### Saving results to Drive"
      ]
    },
    {
      "cell_type": "code",
      "metadata": {
        "id": "UsSMFvGe86dH"
      },
      "source": [
        "!cp pbNB-ARC* /content/drive/MyDrive/Colab_Results/\n",
        "!cp 108* /content/drive/MyDrive/Colab_Results/"
      ],
      "execution_count": null,
      "outputs": []
    },
    {
      "cell_type": "markdown",
      "metadata": {
        "id": "DsaqSNSm82G5"
      },
      "source": [
        "##Step 6 Display Tree with annotation\n",
        "Use the Files menu on the left to download pbNB-ARC.raxml.support (this is our tree) and 108.iTOL.domains.txt (this is our annotation).\n",
        "\n",
        "\n",
        "Go to [iToL](https://itol.embl.de), create an accont and upload your tree. Drag the annotation file over the opened tree view and look around.\n",
        "Here is my copy: [Tree with annotation](https://itol.embl.de/tree/13124385225132441633160125)."
      ]
    }
  ]
}